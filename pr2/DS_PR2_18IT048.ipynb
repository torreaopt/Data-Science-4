{
  "nbformat": 4,
  "nbformat_minor": 0,
  "metadata": {
    "colab": {
      "name": "DS_PR2_18IT048.ipynb",
      "provenance": [],
      "collapsed_sections": []
    },
    "kernelspec": {
      "name": "python3",
      "display_name": "Python 3"
    },
    "language_info": {
      "name": "python"
    }
  },
  "cells": [
    {
      "cell_type": "markdown",
      "metadata": {
        "id": "A4VPDwC2wCFz"
      },
      "source": [
        "# Data Pre-processing - 18IT048"
      ]
    },
    {
      "cell_type": "code",
      "metadata": {
        "id": "LwDxZ0zDL1Ur"
      },
      "source": [
        "import numpy as np\n",
        "import pandas as pd\n",
        "import matplotlib.pyplot as plt\n",
        "import sklearn\n",
        "from sklearn import preprocessing\n",
        "from sklearn.preprocessing import StandardScaler "
      ],
      "execution_count": 1,
      "outputs": []
    },
    {
      "cell_type": "code",
      "metadata": {
        "id": "_MOkutrdPHzL",
        "colab": {
          "resources": {
            "http://localhost:8080/nbextensions/google.colab/files.js": {
              "data": "Ly8gQ29weXJpZ2h0IDIwMTcgR29vZ2xlIExMQwovLwovLyBMaWNlbnNlZCB1bmRlciB0aGUgQXBhY2hlIExpY2Vuc2UsIFZlcnNpb24gMi4wICh0aGUgIkxpY2Vuc2UiKTsKLy8geW91IG1heSBub3QgdXNlIHRoaXMgZmlsZSBleGNlcHQgaW4gY29tcGxpYW5jZSB3aXRoIHRoZSBMaWNlbnNlLgovLyBZb3UgbWF5IG9idGFpbiBhIGNvcHkgb2YgdGhlIExpY2Vuc2UgYXQKLy8KLy8gICAgICBodHRwOi8vd3d3LmFwYWNoZS5vcmcvbGljZW5zZXMvTElDRU5TRS0yLjAKLy8KLy8gVW5sZXNzIHJlcXVpcmVkIGJ5IGFwcGxpY2FibGUgbGF3IG9yIGFncmVlZCB0byBpbiB3cml0aW5nLCBzb2Z0d2FyZQovLyBkaXN0cmlidXRlZCB1bmRlciB0aGUgTGljZW5zZSBpcyBkaXN0cmlidXRlZCBvbiBhbiAiQVMgSVMiIEJBU0lTLAovLyBXSVRIT1VUIFdBUlJBTlRJRVMgT1IgQ09ORElUSU9OUyBPRiBBTlkgS0lORCwgZWl0aGVyIGV4cHJlc3Mgb3IgaW1wbGllZC4KLy8gU2VlIHRoZSBMaWNlbnNlIGZvciB0aGUgc3BlY2lmaWMgbGFuZ3VhZ2UgZ292ZXJuaW5nIHBlcm1pc3Npb25zIGFuZAovLyBsaW1pdGF0aW9ucyB1bmRlciB0aGUgTGljZW5zZS4KCi8qKgogKiBAZmlsZW92ZXJ2aWV3IEhlbHBlcnMgZm9yIGdvb2dsZS5jb2xhYiBQeXRob24gbW9kdWxlLgogKi8KKGZ1bmN0aW9uKHNjb3BlKSB7CmZ1bmN0aW9uIHNwYW4odGV4dCwgc3R5bGVBdHRyaWJ1dGVzID0ge30pIHsKICBjb25zdCBlbGVtZW50ID0gZG9jdW1lbnQuY3JlYXRlRWxlbWVudCgnc3BhbicpOwogIGVsZW1lbnQudGV4dENvbnRlbnQgPSB0ZXh0OwogIGZvciAoY29uc3Qga2V5IG9mIE9iamVjdC5rZXlzKHN0eWxlQXR0cmlidXRlcykpIHsKICAgIGVsZW1lbnQuc3R5bGVba2V5XSA9IHN0eWxlQXR0cmlidXRlc1trZXldOwogIH0KICByZXR1cm4gZWxlbWVudDsKfQoKLy8gTWF4IG51bWJlciBvZiBieXRlcyB3aGljaCB3aWxsIGJlIHVwbG9hZGVkIGF0IGEgdGltZS4KY29uc3QgTUFYX1BBWUxPQURfU0laRSA9IDEwMCAqIDEwMjQ7CgpmdW5jdGlvbiBfdXBsb2FkRmlsZXMoaW5wdXRJZCwgb3V0cHV0SWQpIHsKICBjb25zdCBzdGVwcyA9IHVwbG9hZEZpbGVzU3RlcChpbnB1dElkLCBvdXRwdXRJZCk7CiAgY29uc3Qgb3V0cHV0RWxlbWVudCA9IGRvY3VtZW50LmdldEVsZW1lbnRCeUlkKG91dHB1dElkKTsKICAvLyBDYWNoZSBzdGVwcyBvbiB0aGUgb3V0cHV0RWxlbWVudCB0byBtYWtlIGl0IGF2YWlsYWJsZSBmb3IgdGhlIG5leHQgY2FsbAogIC8vIHRvIHVwbG9hZEZpbGVzQ29udGludWUgZnJvbSBQeXRob24uCiAgb3V0cHV0RWxlbWVudC5zdGVwcyA9IHN0ZXBzOwoKICByZXR1cm4gX3VwbG9hZEZpbGVzQ29udGludWUob3V0cHV0SWQpOwp9CgovLyBUaGlzIGlzIHJvdWdobHkgYW4gYXN5bmMgZ2VuZXJhdG9yIChub3Qgc3VwcG9ydGVkIGluIHRoZSBicm93c2VyIHlldCksCi8vIHdoZXJlIHRoZXJlIGFyZSBtdWx0aXBsZSBhc3luY2hyb25vdXMgc3RlcHMgYW5kIHRoZSBQeXRob24gc2lkZSBpcyBnb2luZwovLyB0byBwb2xsIGZvciBjb21wbGV0aW9uIG9mIGVhY2ggc3RlcC4KLy8gVGhpcyB1c2VzIGEgUHJvbWlzZSB0byBibG9jayB0aGUgcHl0aG9uIHNpZGUgb24gY29tcGxldGlvbiBvZiBlYWNoIHN0ZXAsCi8vIHRoZW4gcGFzc2VzIHRoZSByZXN1bHQgb2YgdGhlIHByZXZpb3VzIHN0ZXAgYXMgdGhlIGlucHV0IHRvIHRoZSBuZXh0IHN0ZXAuCmZ1bmN0aW9uIF91cGxvYWRGaWxlc0NvbnRpbnVlKG91dHB1dElkKSB7CiAgY29uc3Qgb3V0cHV0RWxlbWVudCA9IGRvY3VtZW50LmdldEVsZW1lbnRCeUlkKG91dHB1dElkKTsKICBjb25zdCBzdGVwcyA9IG91dHB1dEVsZW1lbnQuc3RlcHM7CgogIGNvbnN0IG5leHQgPSBzdGVwcy5uZXh0KG91dHB1dEVsZW1lbnQubGFzdFByb21pc2VWYWx1ZSk7CiAgcmV0dXJuIFByb21pc2UucmVzb2x2ZShuZXh0LnZhbHVlLnByb21pc2UpLnRoZW4oKHZhbHVlKSA9PiB7CiAgICAvLyBDYWNoZSB0aGUgbGFzdCBwcm9taXNlIHZhbHVlIHRvIG1ha2UgaXQgYXZhaWxhYmxlIHRvIHRoZSBuZXh0CiAgICAvLyBzdGVwIG9mIHRoZSBnZW5lcmF0b3IuCiAgICBvdXRwdXRFbGVtZW50Lmxhc3RQcm9taXNlVmFsdWUgPSB2YWx1ZTsKICAgIHJldHVybiBuZXh0LnZhbHVlLnJlc3BvbnNlOwogIH0pOwp9CgovKioKICogR2VuZXJhdG9yIGZ1bmN0aW9uIHdoaWNoIGlzIGNhbGxlZCBiZXR3ZWVuIGVhY2ggYXN5bmMgc3RlcCBvZiB0aGUgdXBsb2FkCiAqIHByb2Nlc3MuCiAqIEBwYXJhbSB7c3RyaW5nfSBpbnB1dElkIEVsZW1lbnQgSUQgb2YgdGhlIGlucHV0IGZpbGUgcGlja2VyIGVsZW1lbnQuCiAqIEBwYXJhbSB7c3RyaW5nfSBvdXRwdXRJZCBFbGVtZW50IElEIG9mIHRoZSBvdXRwdXQgZGlzcGxheS4KICogQHJldHVybiB7IUl0ZXJhYmxlPCFPYmplY3Q+fSBJdGVyYWJsZSBvZiBuZXh0IHN0ZXBzLgogKi8KZnVuY3Rpb24qIHVwbG9hZEZpbGVzU3RlcChpbnB1dElkLCBvdXRwdXRJZCkgewogIGNvbnN0IGlucHV0RWxlbWVudCA9IGRvY3VtZW50LmdldEVsZW1lbnRCeUlkKGlucHV0SWQpOwogIGlucHV0RWxlbWVudC5kaXNhYmxlZCA9IGZhbHNlOwoKICBjb25zdCBvdXRwdXRFbGVtZW50ID0gZG9jdW1lbnQuZ2V0RWxlbWVudEJ5SWQob3V0cHV0SWQpOwogIG91dHB1dEVsZW1lbnQuaW5uZXJIVE1MID0gJyc7CgogIGNvbnN0IHBpY2tlZFByb21pc2UgPSBuZXcgUHJvbWlzZSgocmVzb2x2ZSkgPT4gewogICAgaW5wdXRFbGVtZW50LmFkZEV2ZW50TGlzdGVuZXIoJ2NoYW5nZScsIChlKSA9PiB7CiAgICAgIHJlc29sdmUoZS50YXJnZXQuZmlsZXMpOwogICAgfSk7CiAgfSk7CgogIGNvbnN0IGNhbmNlbCA9IGRvY3VtZW50LmNyZWF0ZUVsZW1lbnQoJ2J1dHRvbicpOwogIGlucHV0RWxlbWVudC5wYXJlbnRFbGVtZW50LmFwcGVuZENoaWxkKGNhbmNlbCk7CiAgY2FuY2VsLnRleHRDb250ZW50ID0gJ0NhbmNlbCB1cGxvYWQnOwogIGNvbnN0IGNhbmNlbFByb21pc2UgPSBuZXcgUHJvbWlzZSgocmVzb2x2ZSkgPT4gewogICAgY2FuY2VsLm9uY2xpY2sgPSAoKSA9PiB7CiAgICAgIHJlc29sdmUobnVsbCk7CiAgICB9OwogIH0pOwoKICAvLyBXYWl0IGZvciB0aGUgdXNlciB0byBwaWNrIHRoZSBmaWxlcy4KICBjb25zdCBmaWxlcyA9IHlpZWxkIHsKICAgIHByb21pc2U6IFByb21pc2UucmFjZShbcGlja2VkUHJvbWlzZSwgY2FuY2VsUHJvbWlzZV0pLAogICAgcmVzcG9uc2U6IHsKICAgICAgYWN0aW9uOiAnc3RhcnRpbmcnLAogICAgfQogIH07CgogIGNhbmNlbC5yZW1vdmUoKTsKCiAgLy8gRGlzYWJsZSB0aGUgaW5wdXQgZWxlbWVudCBzaW5jZSBmdXJ0aGVyIHBpY2tzIGFyZSBub3QgYWxsb3dlZC4KICBpbnB1dEVsZW1lbnQuZGlzYWJsZWQgPSB0cnVlOwoKICBpZiAoIWZpbGVzKSB7CiAgICByZXR1cm4gewogICAgICByZXNwb25zZTogewogICAgICAgIGFjdGlvbjogJ2NvbXBsZXRlJywKICAgICAgfQogICAgfTsKICB9CgogIGZvciAoY29uc3QgZmlsZSBvZiBmaWxlcykgewogICAgY29uc3QgbGkgPSBkb2N1bWVudC5jcmVhdGVFbGVtZW50KCdsaScpOwogICAgbGkuYXBwZW5kKHNwYW4oZmlsZS5uYW1lLCB7Zm9udFdlaWdodDogJ2JvbGQnfSkpOwogICAgbGkuYXBwZW5kKHNwYW4oCiAgICAgICAgYCgke2ZpbGUudHlwZSB8fCAnbi9hJ30pIC0gJHtmaWxlLnNpemV9IGJ5dGVzLCBgICsKICAgICAgICBgbGFzdCBtb2RpZmllZDogJHsKICAgICAgICAgICAgZmlsZS5sYXN0TW9kaWZpZWREYXRlID8gZmlsZS5sYXN0TW9kaWZpZWREYXRlLnRvTG9jYWxlRGF0ZVN0cmluZygpIDoKICAgICAgICAgICAgICAgICAgICAgICAgICAgICAgICAgICAgJ24vYSd9IC0gYCkpOwogICAgY29uc3QgcGVyY2VudCA9IHNwYW4oJzAlIGRvbmUnKTsKICAgIGxpLmFwcGVuZENoaWxkKHBlcmNlbnQpOwoKICAgIG91dHB1dEVsZW1lbnQuYXBwZW5kQ2hpbGQobGkpOwoKICAgIGNvbnN0IGZpbGVEYXRhUHJvbWlzZSA9IG5ldyBQcm9taXNlKChyZXNvbHZlKSA9PiB7CiAgICAgIGNvbnN0IHJlYWRlciA9IG5ldyBGaWxlUmVhZGVyKCk7CiAgICAgIHJlYWRlci5vbmxvYWQgPSAoZSkgPT4gewogICAgICAgIHJlc29sdmUoZS50YXJnZXQucmVzdWx0KTsKICAgICAgfTsKICAgICAgcmVhZGVyLnJlYWRBc0FycmF5QnVmZmVyKGZpbGUpOwogICAgfSk7CiAgICAvLyBXYWl0IGZvciB0aGUgZGF0YSB0byBiZSByZWFkeS4KICAgIGxldCBmaWxlRGF0YSA9IHlpZWxkIHsKICAgICAgcHJvbWlzZTogZmlsZURhdGFQcm9taXNlLAogICAgICByZXNwb25zZTogewogICAgICAgIGFjdGlvbjogJ2NvbnRpbnVlJywKICAgICAgfQogICAgfTsKCiAgICAvLyBVc2UgYSBjaHVua2VkIHNlbmRpbmcgdG8gYXZvaWQgbWVzc2FnZSBzaXplIGxpbWl0cy4gU2VlIGIvNjIxMTU2NjAuCiAgICBsZXQgcG9zaXRpb24gPSAwOwogICAgZG8gewogICAgICBjb25zdCBsZW5ndGggPSBNYXRoLm1pbihmaWxlRGF0YS5ieXRlTGVuZ3RoIC0gcG9zaXRpb24sIE1BWF9QQVlMT0FEX1NJWkUpOwogICAgICBjb25zdCBjaHVuayA9IG5ldyBVaW50OEFycmF5KGZpbGVEYXRhLCBwb3NpdGlvbiwgbGVuZ3RoKTsKICAgICAgcG9zaXRpb24gKz0gbGVuZ3RoOwoKICAgICAgY29uc3QgYmFzZTY0ID0gYnRvYShTdHJpbmcuZnJvbUNoYXJDb2RlLmFwcGx5KG51bGwsIGNodW5rKSk7CiAgICAgIHlpZWxkIHsKICAgICAgICByZXNwb25zZTogewogICAgICAgICAgYWN0aW9uOiAnYXBwZW5kJywKICAgICAgICAgIGZpbGU6IGZpbGUubmFtZSwKICAgICAgICAgIGRhdGE6IGJhc2U2NCwKICAgICAgICB9LAogICAgICB9OwoKICAgICAgbGV0IHBlcmNlbnREb25lID0gZmlsZURhdGEuYnl0ZUxlbmd0aCA9PT0gMCA/CiAgICAgICAgICAxMDAgOgogICAgICAgICAgTWF0aC5yb3VuZCgocG9zaXRpb24gLyBmaWxlRGF0YS5ieXRlTGVuZ3RoKSAqIDEwMCk7CiAgICAgIHBlcmNlbnQudGV4dENvbnRlbnQgPSBgJHtwZXJjZW50RG9uZX0lIGRvbmVgOwoKICAgIH0gd2hpbGUgKHBvc2l0aW9uIDwgZmlsZURhdGEuYnl0ZUxlbmd0aCk7CiAgfQoKICAvLyBBbGwgZG9uZS4KICB5aWVsZCB7CiAgICByZXNwb25zZTogewogICAgICBhY3Rpb246ICdjb21wbGV0ZScsCiAgICB9CiAgfTsKfQoKc2NvcGUuZ29vZ2xlID0gc2NvcGUuZ29vZ2xlIHx8IHt9OwpzY29wZS5nb29nbGUuY29sYWIgPSBzY29wZS5nb29nbGUuY29sYWIgfHwge307CnNjb3BlLmdvb2dsZS5jb2xhYi5fZmlsZXMgPSB7CiAgX3VwbG9hZEZpbGVzLAogIF91cGxvYWRGaWxlc0NvbnRpbnVlLAp9Owp9KShzZWxmKTsK",
              "ok": true,
              "headers": [
                [
                  "content-type",
                  "application/javascript"
                ]
              ],
              "status": 200,
              "status_text": ""
            }
          },
          "base_uri": "https://localhost:8080/",
          "height": 73
        },
        "outputId": "df073cb9-5260-4551-ff7c-ea7c848b219b"
      },
      "source": [
        "from google.colab import files\n",
        "uploaded = files.upload()"
      ],
      "execution_count": 2,
      "outputs": [
        {
          "output_type": "display_data",
          "data": {
            "text/html": [
              "\n",
              "     <input type=\"file\" id=\"files-540277c2-3fb7-44d0-b02a-4ba385732252\" name=\"files[]\" multiple disabled\n",
              "        style=\"border:none\" />\n",
              "     <output id=\"result-540277c2-3fb7-44d0-b02a-4ba385732252\">\n",
              "      Upload widget is only available when the cell has been executed in the\n",
              "      current browser session. Please rerun this cell to enable.\n",
              "      </output>\n",
              "      <script src=\"/nbextensions/google.colab/files.js\"></script> "
            ],
            "text/plain": [
              "<IPython.core.display.HTML object>"
            ]
          },
          "metadata": {}
        },
        {
          "output_type": "stream",
          "text": [
            "Saving Iris.csv to Iris.csv\n"
          ],
          "name": "stdout"
        }
      ]
    },
    {
      "cell_type": "code",
      "metadata": {
        "colab": {
          "base_uri": "https://localhost:8080/",
          "height": 0
        },
        "id": "ZOEHDfgGPPdP",
        "outputId": "899ddaf9-555f-44ea-80d4-1d69d0198ea4"
      },
      "source": [
        "import pandas as pd\n",
        "import io\n",
        "data = pd.read_csv('Iris.csv')\n",
        "data.info()"
      ],
      "execution_count": 3,
      "outputs": [
        {
          "output_type": "stream",
          "text": [
            "<class 'pandas.core.frame.DataFrame'>\n",
            "RangeIndex: 151 entries, 0 to 150\n",
            "Data columns (total 6 columns):\n",
            " #   Column         Non-Null Count  Dtype  \n",
            "---  ------         --------------  -----  \n",
            " 0   Id             151 non-null    int64  \n",
            " 1   SepalLengthCm  150 non-null    float64\n",
            " 2   SepalWidthCm   151 non-null    float64\n",
            " 3   PetalLengthCm  151 non-null    float64\n",
            " 4   PetalWidthCm   151 non-null    float64\n",
            " 5   Species        151 non-null    object \n",
            "dtypes: float64(4), int64(1), object(1)\n",
            "memory usage: 7.2+ KB\n"
          ],
          "name": "stdout"
        }
      ]
    },
    {
      "cell_type": "code",
      "metadata": {
        "colab": {
          "base_uri": "https://localhost:8080/",
          "height": 202
        },
        "id": "wCZcHTPFg_BM",
        "outputId": "4efc649e-42a4-4324-ca4d-d8de9194610a"
      },
      "source": [
        "data.head()"
      ],
      "execution_count": 4,
      "outputs": [
        {
          "output_type": "execute_result",
          "data": {
            "text/html": [
              "<div>\n",
              "<style scoped>\n",
              "    .dataframe tbody tr th:only-of-type {\n",
              "        vertical-align: middle;\n",
              "    }\n",
              "\n",
              "    .dataframe tbody tr th {\n",
              "        vertical-align: top;\n",
              "    }\n",
              "\n",
              "    .dataframe thead th {\n",
              "        text-align: right;\n",
              "    }\n",
              "</style>\n",
              "<table border=\"1\" class=\"dataframe\">\n",
              "  <thead>\n",
              "    <tr style=\"text-align: right;\">\n",
              "      <th></th>\n",
              "      <th>Id</th>\n",
              "      <th>SepalLengthCm</th>\n",
              "      <th>SepalWidthCm</th>\n",
              "      <th>PetalLengthCm</th>\n",
              "      <th>PetalWidthCm</th>\n",
              "      <th>Species</th>\n",
              "    </tr>\n",
              "  </thead>\n",
              "  <tbody>\n",
              "    <tr>\n",
              "      <th>0</th>\n",
              "      <td>1</td>\n",
              "      <td>5.1</td>\n",
              "      <td>3.5</td>\n",
              "      <td>1.4</td>\n",
              "      <td>0.2</td>\n",
              "      <td>Iris-setosa</td>\n",
              "    </tr>\n",
              "    <tr>\n",
              "      <th>1</th>\n",
              "      <td>2</td>\n",
              "      <td>4.9</td>\n",
              "      <td>3.0</td>\n",
              "      <td>1.4</td>\n",
              "      <td>0.2</td>\n",
              "      <td>Iris-setosa</td>\n",
              "    </tr>\n",
              "    <tr>\n",
              "      <th>2</th>\n",
              "      <td>3</td>\n",
              "      <td>4.7</td>\n",
              "      <td>3.2</td>\n",
              "      <td>1.3</td>\n",
              "      <td>0.2</td>\n",
              "      <td>Iris-setosa</td>\n",
              "    </tr>\n",
              "    <tr>\n",
              "      <th>3</th>\n",
              "      <td>4</td>\n",
              "      <td>4.6</td>\n",
              "      <td>3.1</td>\n",
              "      <td>1.5</td>\n",
              "      <td>0.2</td>\n",
              "      <td>Iris-setosa</td>\n",
              "    </tr>\n",
              "    <tr>\n",
              "      <th>4</th>\n",
              "      <td>5</td>\n",
              "      <td>5.0</td>\n",
              "      <td>3.6</td>\n",
              "      <td>1.4</td>\n",
              "      <td>0.2</td>\n",
              "      <td>Iris-setosa</td>\n",
              "    </tr>\n",
              "  </tbody>\n",
              "</table>\n",
              "</div>"
            ],
            "text/plain": [
              "   Id  SepalLengthCm  SepalWidthCm  PetalLengthCm  PetalWidthCm      Species\n",
              "0   1            5.1           3.5            1.4           0.2  Iris-setosa\n",
              "1   2            4.9           3.0            1.4           0.2  Iris-setosa\n",
              "2   3            4.7           3.2            1.3           0.2  Iris-setosa\n",
              "3   4            4.6           3.1            1.5           0.2  Iris-setosa\n",
              "4   5            5.0           3.6            1.4           0.2  Iris-setosa"
            ]
          },
          "metadata": {},
          "execution_count": 4
        }
      ]
    },
    {
      "cell_type": "markdown",
      "metadata": {
        "id": "5HtZiAJhJleJ"
      },
      "source": [
        "\n",
        "# **Encoding**\n",
        "\n",
        "1. Label encoder\n",
        "\n",
        "2. Onehot encoder"
      ]
    },
    {
      "cell_type": "code",
      "metadata": {
        "id": "U_4ryZ9WPNyI"
      },
      "source": [
        "from sklearn.preprocessing import LabelEncoder , OneHotEncoder"
      ],
      "execution_count": 5,
      "outputs": []
    },
    {
      "cell_type": "markdown",
      "metadata": {
        "id": "JylFrtXZJxE5"
      },
      "source": [
        "**1. Label encoder**"
      ]
    },
    {
      "cell_type": "code",
      "metadata": {
        "colab": {
          "base_uri": "https://localhost:8080/",
          "height": 0
        },
        "id": "vV2SoOc8YGSg",
        "outputId": "c09587da-1467-46eb-9137-185f078c791a"
      },
      "source": [
        "le=LabelEncoder()\n",
        "data['Species']=le.fit_transform(data['Species'])\n",
        "data['Species'].value_counts()"
      ],
      "execution_count": 6,
      "outputs": [
        {
          "output_type": "execute_result",
          "data": {
            "text/plain": [
              "2    51\n",
              "1    50\n",
              "0    50\n",
              "Name: Species, dtype: int64"
            ]
          },
          "metadata": {},
          "execution_count": 6
        }
      ]
    },
    {
      "cell_type": "code",
      "metadata": {
        "colab": {
          "base_uri": "https://localhost:8080/",
          "height": 414
        },
        "id": "iWaOUpHFE-IZ",
        "outputId": "d59f1f92-d02b-4252-df22-f9b684329939"
      },
      "source": [
        "data"
      ],
      "execution_count": 7,
      "outputs": [
        {
          "output_type": "execute_result",
          "data": {
            "text/html": [
              "<div>\n",
              "<style scoped>\n",
              "    .dataframe tbody tr th:only-of-type {\n",
              "        vertical-align: middle;\n",
              "    }\n",
              "\n",
              "    .dataframe tbody tr th {\n",
              "        vertical-align: top;\n",
              "    }\n",
              "\n",
              "    .dataframe thead th {\n",
              "        text-align: right;\n",
              "    }\n",
              "</style>\n",
              "<table border=\"1\" class=\"dataframe\">\n",
              "  <thead>\n",
              "    <tr style=\"text-align: right;\">\n",
              "      <th></th>\n",
              "      <th>Id</th>\n",
              "      <th>SepalLengthCm</th>\n",
              "      <th>SepalWidthCm</th>\n",
              "      <th>PetalLengthCm</th>\n",
              "      <th>PetalWidthCm</th>\n",
              "      <th>Species</th>\n",
              "    </tr>\n",
              "  </thead>\n",
              "  <tbody>\n",
              "    <tr>\n",
              "      <th>0</th>\n",
              "      <td>1</td>\n",
              "      <td>5.1</td>\n",
              "      <td>3.5</td>\n",
              "      <td>1.4</td>\n",
              "      <td>0.2</td>\n",
              "      <td>0</td>\n",
              "    </tr>\n",
              "    <tr>\n",
              "      <th>1</th>\n",
              "      <td>2</td>\n",
              "      <td>4.9</td>\n",
              "      <td>3.0</td>\n",
              "      <td>1.4</td>\n",
              "      <td>0.2</td>\n",
              "      <td>0</td>\n",
              "    </tr>\n",
              "    <tr>\n",
              "      <th>2</th>\n",
              "      <td>3</td>\n",
              "      <td>4.7</td>\n",
              "      <td>3.2</td>\n",
              "      <td>1.3</td>\n",
              "      <td>0.2</td>\n",
              "      <td>0</td>\n",
              "    </tr>\n",
              "    <tr>\n",
              "      <th>3</th>\n",
              "      <td>4</td>\n",
              "      <td>4.6</td>\n",
              "      <td>3.1</td>\n",
              "      <td>1.5</td>\n",
              "      <td>0.2</td>\n",
              "      <td>0</td>\n",
              "    </tr>\n",
              "    <tr>\n",
              "      <th>4</th>\n",
              "      <td>5</td>\n",
              "      <td>5.0</td>\n",
              "      <td>3.6</td>\n",
              "      <td>1.4</td>\n",
              "      <td>0.2</td>\n",
              "      <td>0</td>\n",
              "    </tr>\n",
              "    <tr>\n",
              "      <th>...</th>\n",
              "      <td>...</td>\n",
              "      <td>...</td>\n",
              "      <td>...</td>\n",
              "      <td>...</td>\n",
              "      <td>...</td>\n",
              "      <td>...</td>\n",
              "    </tr>\n",
              "    <tr>\n",
              "      <th>146</th>\n",
              "      <td>147</td>\n",
              "      <td>6.3</td>\n",
              "      <td>2.5</td>\n",
              "      <td>5.0</td>\n",
              "      <td>1.9</td>\n",
              "      <td>2</td>\n",
              "    </tr>\n",
              "    <tr>\n",
              "      <th>147</th>\n",
              "      <td>148</td>\n",
              "      <td>6.5</td>\n",
              "      <td>3.0</td>\n",
              "      <td>5.2</td>\n",
              "      <td>2.0</td>\n",
              "      <td>2</td>\n",
              "    </tr>\n",
              "    <tr>\n",
              "      <th>148</th>\n",
              "      <td>149</td>\n",
              "      <td>6.2</td>\n",
              "      <td>3.4</td>\n",
              "      <td>5.4</td>\n",
              "      <td>2.3</td>\n",
              "      <td>2</td>\n",
              "    </tr>\n",
              "    <tr>\n",
              "      <th>149</th>\n",
              "      <td>150</td>\n",
              "      <td>5.9</td>\n",
              "      <td>3.0</td>\n",
              "      <td>5.1</td>\n",
              "      <td>1.8</td>\n",
              "      <td>2</td>\n",
              "    </tr>\n",
              "    <tr>\n",
              "      <th>150</th>\n",
              "      <td>151</td>\n",
              "      <td>NaN</td>\n",
              "      <td>3.4</td>\n",
              "      <td>5.1</td>\n",
              "      <td>2.2</td>\n",
              "      <td>2</td>\n",
              "    </tr>\n",
              "  </tbody>\n",
              "</table>\n",
              "<p>151 rows × 6 columns</p>\n",
              "</div>"
            ],
            "text/plain": [
              "      Id  SepalLengthCm  SepalWidthCm  PetalLengthCm  PetalWidthCm  Species\n",
              "0      1            5.1           3.5            1.4           0.2        0\n",
              "1      2            4.9           3.0            1.4           0.2        0\n",
              "2      3            4.7           3.2            1.3           0.2        0\n",
              "3      4            4.6           3.1            1.5           0.2        0\n",
              "4      5            5.0           3.6            1.4           0.2        0\n",
              "..   ...            ...           ...            ...           ...      ...\n",
              "146  147            6.3           2.5            5.0           1.9        2\n",
              "147  148            6.5           3.0            5.2           2.0        2\n",
              "148  149            6.2           3.4            5.4           2.3        2\n",
              "149  150            5.9           3.0            5.1           1.8        2\n",
              "150  151            NaN           3.4            5.1           2.2        2\n",
              "\n",
              "[151 rows x 6 columns]"
            ]
          },
          "metadata": {},
          "execution_count": 7
        }
      ]
    },
    {
      "cell_type": "code",
      "metadata": {
        "colab": {
          "base_uri": "https://localhost:8080/",
          "height": 0
        },
        "id": "yl9RjH4CZrhu",
        "outputId": "53dea512-1d23-45fa-e097-c8e221316fa1"
      },
      "source": [
        "le.classes_"
      ],
      "execution_count": 8,
      "outputs": [
        {
          "output_type": "execute_result",
          "data": {
            "text/plain": [
              "array(['Iris-setosa', 'Iris-versicolor', 'Iris-virginica'], dtype=object)"
            ]
          },
          "metadata": {},
          "execution_count": 8
        }
      ]
    },
    {
      "cell_type": "markdown",
      "metadata": {
        "id": "hm5bpENdP5Jk"
      },
      "source": [
        "**2. Onehot Encoder**"
      ]
    },
    {
      "cell_type": "code",
      "metadata": {
        "colab": {
          "base_uri": "https://localhost:8080/",
          "height": 0
        },
        "id": "YONEZ_x8nOMh",
        "outputId": "ed97220b-848c-44a8-d5ee-2d7ec5b250f9"
      },
      "source": [
        "data['Species'].value_counts()"
      ],
      "execution_count": 9,
      "outputs": [
        {
          "output_type": "execute_result",
          "data": {
            "text/plain": [
              "2    51\n",
              "1    50\n",
              "0    50\n",
              "Name: Species, dtype: int64"
            ]
          },
          "metadata": {},
          "execution_count": 9
        }
      ]
    },
    {
      "cell_type": "code",
      "metadata": {
        "colab": {
          "base_uri": "https://localhost:8080/",
          "height": 0
        },
        "id": "6zQ5J-FacJlW",
        "outputId": "75339306-aaf4-4f1a-8c20-8c2d38c16383"
      },
      "source": [
        "one_hot = OneHotEncoder()\n",
        "transformed_data = one_hot.fit_transform(data['Species'].values.reshape(-1,1)).toarray()\n",
        "one_hot.categories_"
      ],
      "execution_count": 10,
      "outputs": [
        {
          "output_type": "execute_result",
          "data": {
            "text/plain": [
              "[array([0, 1, 2])]"
            ]
          },
          "metadata": {},
          "execution_count": 10
        }
      ]
    },
    {
      "cell_type": "code",
      "metadata": {
        "id": "ffM02Ah3fHUY",
        "colab": {
          "base_uri": "https://localhost:8080/",
          "height": 202
        },
        "outputId": "d6ef59fd-7759-4607-e233-ee283e5fa580"
      },
      "source": [
        "transformed_data = pd.DataFrame(transformed_data , \n",
        "                                columns = ['Iris-setosa', 'Iris-versicolor', 'Iris-virginica'])\n",
        "transformed_data.head()"
      ],
      "execution_count": 11,
      "outputs": [
        {
          "output_type": "execute_result",
          "data": {
            "text/html": [
              "<div>\n",
              "<style scoped>\n",
              "    .dataframe tbody tr th:only-of-type {\n",
              "        vertical-align: middle;\n",
              "    }\n",
              "\n",
              "    .dataframe tbody tr th {\n",
              "        vertical-align: top;\n",
              "    }\n",
              "\n",
              "    .dataframe thead th {\n",
              "        text-align: right;\n",
              "    }\n",
              "</style>\n",
              "<table border=\"1\" class=\"dataframe\">\n",
              "  <thead>\n",
              "    <tr style=\"text-align: right;\">\n",
              "      <th></th>\n",
              "      <th>Iris-setosa</th>\n",
              "      <th>Iris-versicolor</th>\n",
              "      <th>Iris-virginica</th>\n",
              "    </tr>\n",
              "  </thead>\n",
              "  <tbody>\n",
              "    <tr>\n",
              "      <th>0</th>\n",
              "      <td>1.0</td>\n",
              "      <td>0.0</td>\n",
              "      <td>0.0</td>\n",
              "    </tr>\n",
              "    <tr>\n",
              "      <th>1</th>\n",
              "      <td>1.0</td>\n",
              "      <td>0.0</td>\n",
              "      <td>0.0</td>\n",
              "    </tr>\n",
              "    <tr>\n",
              "      <th>2</th>\n",
              "      <td>1.0</td>\n",
              "      <td>0.0</td>\n",
              "      <td>0.0</td>\n",
              "    </tr>\n",
              "    <tr>\n",
              "      <th>3</th>\n",
              "      <td>1.0</td>\n",
              "      <td>0.0</td>\n",
              "      <td>0.0</td>\n",
              "    </tr>\n",
              "    <tr>\n",
              "      <th>4</th>\n",
              "      <td>1.0</td>\n",
              "      <td>0.0</td>\n",
              "      <td>0.0</td>\n",
              "    </tr>\n",
              "  </tbody>\n",
              "</table>\n",
              "</div>"
            ],
            "text/plain": [
              "   Iris-setosa  Iris-versicolor  Iris-virginica\n",
              "0          1.0              0.0             0.0\n",
              "1          1.0              0.0             0.0\n",
              "2          1.0              0.0             0.0\n",
              "3          1.0              0.0             0.0\n",
              "4          1.0              0.0             0.0"
            ]
          },
          "metadata": {},
          "execution_count": 11
        }
      ]
    },
    {
      "cell_type": "markdown",
      "metadata": {
        "id": "fAYlhiM7tCuN"
      },
      "source": [
        "**Normalization & Standardization**"
      ]
    },
    {
      "cell_type": "code",
      "metadata": {
        "colab": {
          "base_uri": "https://localhost:8080/",
          "height": 0
        },
        "id": "zw38mDOHs-XX",
        "outputId": "89ba1cff-f315-4aa0-fc58-e209ecc82e43"
      },
      "source": [
        "# consider only numerical columns\n",
        "numeric_columns = [c for c in data.columns if data[c].dtype != np.dtype('O')]\n",
        "numeric_columns"
      ],
      "execution_count": 14,
      "outputs": [
        {
          "output_type": "execute_result",
          "data": {
            "text/plain": [
              "['Id',\n",
              " 'SepalLengthCm',\n",
              " 'SepalWidthCm',\n",
              " 'PetalLengthCm',\n",
              " 'PetalWidthCm',\n",
              " 'Species']"
            ]
          },
          "metadata": {},
          "execution_count": 14
        }
      ]
    },
    {
      "cell_type": "code",
      "metadata": {
        "colab": {
          "base_uri": "https://localhost:8080/"
        },
        "id": "Os1mlWQHtO8Z",
        "outputId": "8bda0c5b-7786-4dcc-a55e-1c0564a0a29b"
      },
      "source": [
        "len(numeric_columns) , len(data.columns)"
      ],
      "execution_count": null,
      "outputs": [
        {
          "output_type": "execute_result",
          "data": {
            "text/plain": [
              "(6, 6)"
            ]
          },
          "metadata": {},
          "execution_count": 57
        }
      ]
    },
    {
      "cell_type": "code",
      "metadata": {
        "id": "c902BEQ1tTHm",
        "colab": {
          "base_uri": "https://localhost:8080/",
          "height": 414
        },
        "outputId": "c90beda2-f084-42b4-e822-9b16a3b959c9"
      },
      "source": [
        "numeric_columns.remove('Id')\n",
        "temp_data = data[numeric_columns]\n",
        "temp_data"
      ],
      "execution_count": 25,
      "outputs": [
        {
          "output_type": "execute_result",
          "data": {
            "text/html": [
              "<div>\n",
              "<style scoped>\n",
              "    .dataframe tbody tr th:only-of-type {\n",
              "        vertical-align: middle;\n",
              "    }\n",
              "\n",
              "    .dataframe tbody tr th {\n",
              "        vertical-align: top;\n",
              "    }\n",
              "\n",
              "    .dataframe thead th {\n",
              "        text-align: right;\n",
              "    }\n",
              "</style>\n",
              "<table border=\"1\" class=\"dataframe\">\n",
              "  <thead>\n",
              "    <tr style=\"text-align: right;\">\n",
              "      <th></th>\n",
              "      <th>SepalLengthCm</th>\n",
              "      <th>SepalWidthCm</th>\n",
              "      <th>PetalLengthCm</th>\n",
              "      <th>PetalWidthCm</th>\n",
              "      <th>Species</th>\n",
              "    </tr>\n",
              "  </thead>\n",
              "  <tbody>\n",
              "    <tr>\n",
              "      <th>0</th>\n",
              "      <td>5.100000</td>\n",
              "      <td>3.5</td>\n",
              "      <td>1.4</td>\n",
              "      <td>0.2</td>\n",
              "      <td>0</td>\n",
              "    </tr>\n",
              "    <tr>\n",
              "      <th>1</th>\n",
              "      <td>4.900000</td>\n",
              "      <td>3.0</td>\n",
              "      <td>1.4</td>\n",
              "      <td>0.2</td>\n",
              "      <td>0</td>\n",
              "    </tr>\n",
              "    <tr>\n",
              "      <th>2</th>\n",
              "      <td>4.700000</td>\n",
              "      <td>3.2</td>\n",
              "      <td>1.3</td>\n",
              "      <td>0.2</td>\n",
              "      <td>0</td>\n",
              "    </tr>\n",
              "    <tr>\n",
              "      <th>3</th>\n",
              "      <td>4.600000</td>\n",
              "      <td>3.1</td>\n",
              "      <td>1.5</td>\n",
              "      <td>0.2</td>\n",
              "      <td>0</td>\n",
              "    </tr>\n",
              "    <tr>\n",
              "      <th>4</th>\n",
              "      <td>5.000000</td>\n",
              "      <td>3.6</td>\n",
              "      <td>1.4</td>\n",
              "      <td>0.2</td>\n",
              "      <td>0</td>\n",
              "    </tr>\n",
              "    <tr>\n",
              "      <th>...</th>\n",
              "      <td>...</td>\n",
              "      <td>...</td>\n",
              "      <td>...</td>\n",
              "      <td>...</td>\n",
              "      <td>...</td>\n",
              "    </tr>\n",
              "    <tr>\n",
              "      <th>146</th>\n",
              "      <td>6.300000</td>\n",
              "      <td>2.5</td>\n",
              "      <td>5.0</td>\n",
              "      <td>1.9</td>\n",
              "      <td>2</td>\n",
              "    </tr>\n",
              "    <tr>\n",
              "      <th>147</th>\n",
              "      <td>6.500000</td>\n",
              "      <td>3.0</td>\n",
              "      <td>5.2</td>\n",
              "      <td>2.0</td>\n",
              "      <td>2</td>\n",
              "    </tr>\n",
              "    <tr>\n",
              "      <th>148</th>\n",
              "      <td>6.200000</td>\n",
              "      <td>3.4</td>\n",
              "      <td>5.4</td>\n",
              "      <td>2.3</td>\n",
              "      <td>2</td>\n",
              "    </tr>\n",
              "    <tr>\n",
              "      <th>149</th>\n",
              "      <td>5.900000</td>\n",
              "      <td>3.0</td>\n",
              "      <td>5.1</td>\n",
              "      <td>1.8</td>\n",
              "      <td>2</td>\n",
              "    </tr>\n",
              "    <tr>\n",
              "      <th>150</th>\n",
              "      <td>5.843333</td>\n",
              "      <td>3.4</td>\n",
              "      <td>5.1</td>\n",
              "      <td>2.2</td>\n",
              "      <td>2</td>\n",
              "    </tr>\n",
              "  </tbody>\n",
              "</table>\n",
              "<p>151 rows × 5 columns</p>\n",
              "</div>"
            ],
            "text/plain": [
              "     SepalLengthCm  SepalWidthCm  PetalLengthCm  PetalWidthCm  Species\n",
              "0         5.100000           3.5            1.4           0.2        0\n",
              "1         4.900000           3.0            1.4           0.2        0\n",
              "2         4.700000           3.2            1.3           0.2        0\n",
              "3         4.600000           3.1            1.5           0.2        0\n",
              "4         5.000000           3.6            1.4           0.2        0\n",
              "..             ...           ...            ...           ...      ...\n",
              "146       6.300000           2.5            5.0           1.9        2\n",
              "147       6.500000           3.0            5.2           2.0        2\n",
              "148       6.200000           3.4            5.4           2.3        2\n",
              "149       5.900000           3.0            5.1           1.8        2\n",
              "150       5.843333           3.4            5.1           2.2        2\n",
              "\n",
              "[151 rows x 5 columns]"
            ]
          },
          "metadata": {},
          "execution_count": 25
        }
      ]
    },
    {
      "cell_type": "markdown",
      "metadata": {
        "id": "j6NFJ-qt1Xrg"
      },
      "source": [
        "# **Normalization**"
      ]
    },
    {
      "cell_type": "code",
      "metadata": {
        "colab": {
          "base_uri": "https://localhost:8080/",
          "height": 202
        },
        "id": "auiQQzQH1ZHr",
        "outputId": "5112bf9c-65dd-4774-9b1e-b6afd3068511"
      },
      "source": [
        "from sklearn.preprocessing import StandardScaler , MinMaxScaler\n",
        "import warnings\n",
        "warnings.filterwarnings('ignore')\n",
        "normalizer = MinMaxScaler()\n",
        "temp_data.dropna(axis = 1 , inplace = True)\n",
        "normalized_data = normalizer.fit_transform(temp_data)\n",
        "pd.DataFrame(normalized_data , columns = temp_data.columns).head()"
      ],
      "execution_count": 26,
      "outputs": [
        {
          "output_type": "execute_result",
          "data": {
            "text/html": [
              "<div>\n",
              "<style scoped>\n",
              "    .dataframe tbody tr th:only-of-type {\n",
              "        vertical-align: middle;\n",
              "    }\n",
              "\n",
              "    .dataframe tbody tr th {\n",
              "        vertical-align: top;\n",
              "    }\n",
              "\n",
              "    .dataframe thead th {\n",
              "        text-align: right;\n",
              "    }\n",
              "</style>\n",
              "<table border=\"1\" class=\"dataframe\">\n",
              "  <thead>\n",
              "    <tr style=\"text-align: right;\">\n",
              "      <th></th>\n",
              "      <th>SepalLengthCm</th>\n",
              "      <th>SepalWidthCm</th>\n",
              "      <th>PetalLengthCm</th>\n",
              "      <th>PetalWidthCm</th>\n",
              "      <th>Species</th>\n",
              "    </tr>\n",
              "  </thead>\n",
              "  <tbody>\n",
              "    <tr>\n",
              "      <th>0</th>\n",
              "      <td>0.222222</td>\n",
              "      <td>0.625000</td>\n",
              "      <td>0.067797</td>\n",
              "      <td>0.041667</td>\n",
              "      <td>0.0</td>\n",
              "    </tr>\n",
              "    <tr>\n",
              "      <th>1</th>\n",
              "      <td>0.166667</td>\n",
              "      <td>0.416667</td>\n",
              "      <td>0.067797</td>\n",
              "      <td>0.041667</td>\n",
              "      <td>0.0</td>\n",
              "    </tr>\n",
              "    <tr>\n",
              "      <th>2</th>\n",
              "      <td>0.111111</td>\n",
              "      <td>0.500000</td>\n",
              "      <td>0.050847</td>\n",
              "      <td>0.041667</td>\n",
              "      <td>0.0</td>\n",
              "    </tr>\n",
              "    <tr>\n",
              "      <th>3</th>\n",
              "      <td>0.083333</td>\n",
              "      <td>0.458333</td>\n",
              "      <td>0.084746</td>\n",
              "      <td>0.041667</td>\n",
              "      <td>0.0</td>\n",
              "    </tr>\n",
              "    <tr>\n",
              "      <th>4</th>\n",
              "      <td>0.194444</td>\n",
              "      <td>0.666667</td>\n",
              "      <td>0.067797</td>\n",
              "      <td>0.041667</td>\n",
              "      <td>0.0</td>\n",
              "    </tr>\n",
              "  </tbody>\n",
              "</table>\n",
              "</div>"
            ],
            "text/plain": [
              "   SepalLengthCm  SepalWidthCm  PetalLengthCm  PetalWidthCm  Species\n",
              "0       0.222222      0.625000       0.067797      0.041667      0.0\n",
              "1       0.166667      0.416667       0.067797      0.041667      0.0\n",
              "2       0.111111      0.500000       0.050847      0.041667      0.0\n",
              "3       0.083333      0.458333       0.084746      0.041667      0.0\n",
              "4       0.194444      0.666667       0.067797      0.041667      0.0"
            ]
          },
          "metadata": {},
          "execution_count": 26
        }
      ]
    },
    {
      "cell_type": "markdown",
      "metadata": {
        "id": "L0s3h86F1qSp"
      },
      "source": [
        "# **Standardization**"
      ]
    },
    {
      "cell_type": "markdown",
      "metadata": {
        "id": "-SC0hj-Rkhhc"
      },
      "source": [
        "**Method:1 Using preprocessing.scale() function**"
      ]
    },
    {
      "cell_type": "code",
      "metadata": {
        "colab": {
          "base_uri": "https://localhost:8080/",
          "height": 414
        },
        "id": "ACO_BedZS1dT",
        "outputId": "1622dd78-6090-46eb-c2f3-4c0739ec9d4c"
      },
      "source": [
        "for_stand=data\n",
        "stand=preprocessing.scale(for_stand)\n",
        "pd.DataFrame(stand,columns=data.columns)"
      ],
      "execution_count": 17,
      "outputs": [
        {
          "output_type": "execute_result",
          "data": {
            "text/html": [
              "<div>\n",
              "<style scoped>\n",
              "    .dataframe tbody tr th:only-of-type {\n",
              "        vertical-align: middle;\n",
              "    }\n",
              "\n",
              "    .dataframe tbody tr th {\n",
              "        vertical-align: top;\n",
              "    }\n",
              "\n",
              "    .dataframe thead th {\n",
              "        text-align: right;\n",
              "    }\n",
              "</style>\n",
              "<table border=\"1\" class=\"dataframe\">\n",
              "  <thead>\n",
              "    <tr style=\"text-align: right;\">\n",
              "      <th></th>\n",
              "      <th>Id</th>\n",
              "      <th>SepalLengthCm</th>\n",
              "      <th>SepalWidthCm</th>\n",
              "      <th>PetalLengthCm</th>\n",
              "      <th>PetalWidthCm</th>\n",
              "      <th>Species</th>\n",
              "    </tr>\n",
              "  </thead>\n",
              "  <tbody>\n",
              "    <tr>\n",
              "      <th>0</th>\n",
              "      <td>-1.720618</td>\n",
              "      <td>-0.900681</td>\n",
              "      <td>1.027992</td>\n",
              "      <td>-1.348209</td>\n",
              "      <td>-1.318548</td>\n",
              "      <td>-1.230860</td>\n",
              "    </tr>\n",
              "    <tr>\n",
              "      <th>1</th>\n",
              "      <td>-1.697676</td>\n",
              "      <td>-1.143017</td>\n",
              "      <td>-0.130417</td>\n",
              "      <td>-1.348209</td>\n",
              "      <td>-1.318548</td>\n",
              "      <td>-1.230860</td>\n",
              "    </tr>\n",
              "    <tr>\n",
              "      <th>2</th>\n",
              "      <td>-1.674735</td>\n",
              "      <td>-1.385353</td>\n",
              "      <td>0.332947</td>\n",
              "      <td>-1.405155</td>\n",
              "      <td>-1.318548</td>\n",
              "      <td>-1.230860</td>\n",
              "    </tr>\n",
              "    <tr>\n",
              "      <th>3</th>\n",
              "      <td>-1.651793</td>\n",
              "      <td>-1.506521</td>\n",
              "      <td>0.101265</td>\n",
              "      <td>-1.291264</td>\n",
              "      <td>-1.318548</td>\n",
              "      <td>-1.230860</td>\n",
              "    </tr>\n",
              "    <tr>\n",
              "      <th>4</th>\n",
              "      <td>-1.628852</td>\n",
              "      <td>-1.021849</td>\n",
              "      <td>1.259674</td>\n",
              "      <td>-1.348209</td>\n",
              "      <td>-1.318548</td>\n",
              "      <td>-1.230860</td>\n",
              "    </tr>\n",
              "    <tr>\n",
              "      <th>...</th>\n",
              "      <td>...</td>\n",
              "      <td>...</td>\n",
              "      <td>...</td>\n",
              "      <td>...</td>\n",
              "      <td>...</td>\n",
              "      <td>...</td>\n",
              "    </tr>\n",
              "    <tr>\n",
              "      <th>146</th>\n",
              "      <td>1.628852</td>\n",
              "      <td>0.553333</td>\n",
              "      <td>-1.288826</td>\n",
              "      <td>0.701823</td>\n",
              "      <td>0.911171</td>\n",
              "      <td>1.214664</td>\n",
              "    </tr>\n",
              "    <tr>\n",
              "      <th>147</th>\n",
              "      <td>1.651793</td>\n",
              "      <td>0.795669</td>\n",
              "      <td>-0.130417</td>\n",
              "      <td>0.815714</td>\n",
              "      <td>1.042331</td>\n",
              "      <td>1.214664</td>\n",
              "    </tr>\n",
              "    <tr>\n",
              "      <th>148</th>\n",
              "      <td>1.674735</td>\n",
              "      <td>0.432165</td>\n",
              "      <td>0.796310</td>\n",
              "      <td>0.929604</td>\n",
              "      <td>1.435810</td>\n",
              "      <td>1.214664</td>\n",
              "    </tr>\n",
              "    <tr>\n",
              "      <th>149</th>\n",
              "      <td>1.697676</td>\n",
              "      <td>0.068662</td>\n",
              "      <td>-0.130417</td>\n",
              "      <td>0.758768</td>\n",
              "      <td>0.780011</td>\n",
              "      <td>1.214664</td>\n",
              "    </tr>\n",
              "    <tr>\n",
              "      <th>150</th>\n",
              "      <td>1.720618</td>\n",
              "      <td>NaN</td>\n",
              "      <td>0.796310</td>\n",
              "      <td>0.758768</td>\n",
              "      <td>1.304650</td>\n",
              "      <td>1.214664</td>\n",
              "    </tr>\n",
              "  </tbody>\n",
              "</table>\n",
              "<p>151 rows × 6 columns</p>\n",
              "</div>"
            ],
            "text/plain": [
              "           Id  SepalLengthCm  ...  PetalWidthCm   Species\n",
              "0   -1.720618      -0.900681  ...     -1.318548 -1.230860\n",
              "1   -1.697676      -1.143017  ...     -1.318548 -1.230860\n",
              "2   -1.674735      -1.385353  ...     -1.318548 -1.230860\n",
              "3   -1.651793      -1.506521  ...     -1.318548 -1.230860\n",
              "4   -1.628852      -1.021849  ...     -1.318548 -1.230860\n",
              "..        ...            ...  ...           ...       ...\n",
              "146  1.628852       0.553333  ...      0.911171  1.214664\n",
              "147  1.651793       0.795669  ...      1.042331  1.214664\n",
              "148  1.674735       0.432165  ...      1.435810  1.214664\n",
              "149  1.697676       0.068662  ...      0.780011  1.214664\n",
              "150  1.720618            NaN  ...      1.304650  1.214664\n",
              "\n",
              "[151 rows x 6 columns]"
            ]
          },
          "metadata": {},
          "execution_count": 17
        }
      ]
    },
    {
      "cell_type": "markdown",
      "metadata": {
        "id": "Zp6tTwMJl5yR"
      },
      "source": [
        "**Method:2 Using StandardScaler() function**"
      ]
    },
    {
      "cell_type": "code",
      "metadata": {
        "colab": {
          "base_uri": "https://localhost:8080/",
          "height": 0
        },
        "id": "Gm00xDfXd1rD",
        "outputId": "967d3bec-d1a4-40c7-ffb6-a558ef1aee5b"
      },
      "source": [
        "sc = StandardScaler()\n",
        "for_stand = sc.fit_transform(for_stand)\n",
        "for_stand"
      ],
      "execution_count": 28,
      "outputs": [
        {
          "output_type": "execute_result",
          "data": {
            "text/plain": [
              "array([[-1.720618  , -0.90068117,  1.02799193, -1.34820926, -1.31854815,\n",
              "        -1.23086002],\n",
              "       [-1.69767643, -1.14301691, -0.13041689, -1.34820926, -1.31854815,\n",
              "        -1.23086002],\n",
              "       [-1.67473486, -1.38535265,  0.33294664, -1.4051546 , -1.31854815,\n",
              "        -1.23086002],\n",
              "       [-1.65179328, -1.50652052,  0.10126488, -1.29126392, -1.31854815,\n",
              "        -1.23086002],\n",
              "       [-1.62885171, -1.02184904,  1.25967369, -1.34820926, -1.31854815,\n",
              "        -1.23086002],\n",
              "       [-1.60591014, -0.53717756,  1.95471898, -1.17737323, -1.0562283 ,\n",
              "        -1.23086002],\n",
              "       [-1.58296856, -1.50652052,  0.79631017, -1.34820926, -1.18738822,\n",
              "        -1.23086002],\n",
              "       [-1.56002699, -1.02184904,  0.79631017, -1.29126392, -1.31854815,\n",
              "        -1.23086002],\n",
              "       [-1.53708542, -1.74885626, -0.36209865, -1.34820926, -1.31854815,\n",
              "        -1.23086002],\n",
              "       [-1.51414384, -1.14301691,  0.10126488, -1.29126392, -1.44970808,\n",
              "        -1.23086002],\n",
              "       [-1.49120227, -0.53717756,  1.49135546, -1.29126392, -1.31854815,\n",
              "        -1.23086002],\n",
              "       [-1.4682607 , -1.26418478,  0.79631017, -1.23431858, -1.31854815,\n",
              "        -1.23086002],\n",
              "       [-1.44531912, -1.26418478, -0.13041689, -1.34820926, -1.44970808,\n",
              "        -1.23086002],\n",
              "       [-1.42237755, -1.87002413, -0.13041689, -1.51904529, -1.44970808,\n",
              "        -1.23086002],\n",
              "       [-1.39943598, -0.05250608,  2.18640075, -1.46209994, -1.31854815,\n",
              "        -1.23086002],\n",
              "       [-1.3764944 , -0.17367395,  3.1131278 , -1.29126392, -1.0562283 ,\n",
              "        -1.23086002],\n",
              "       [-1.35355283, -0.53717756,  1.95471898, -1.4051546 , -1.0562283 ,\n",
              "        -1.23086002],\n",
              "       [-1.33061126, -0.90068117,  1.02799193, -1.34820926, -1.18738822,\n",
              "        -1.23086002],\n",
              "       [-1.30766968, -0.17367395,  1.72303722, -1.17737323, -1.18738822,\n",
              "        -1.23086002],\n",
              "       [-1.28472811, -0.90068117,  1.72303722, -1.29126392, -1.18738822,\n",
              "        -1.23086002],\n",
              "       [-1.26178654, -0.53717756,  0.79631017, -1.17737323, -1.31854815,\n",
              "        -1.23086002],\n",
              "       [-1.23884496, -0.90068117,  1.49135546, -1.29126392, -1.0562283 ,\n",
              "        -1.23086002],\n",
              "       [-1.21590339, -1.50652052,  1.25967369, -1.57599063, -1.31854815,\n",
              "        -1.23086002],\n",
              "       [-1.19296182, -0.90068117,  0.5646284 , -1.17737323, -0.92506837,\n",
              "        -1.23086002],\n",
              "       [-1.17002024, -1.26418478,  0.79631017, -1.06348255, -1.31854815,\n",
              "        -1.23086002],\n",
              "       [-1.14707867, -1.02184904, -0.13041689, -1.23431858, -1.31854815,\n",
              "        -1.23086002],\n",
              "       [-1.1241371 , -1.02184904,  0.79631017, -1.23431858, -1.0562283 ,\n",
              "        -1.23086002],\n",
              "       [-1.10119552, -0.7795133 ,  1.02799193, -1.29126392, -1.31854815,\n",
              "        -1.23086002],\n",
              "       [-1.07825395, -0.7795133 ,  0.79631017, -1.34820926, -1.31854815,\n",
              "        -1.23086002],\n",
              "       [-1.05531238, -1.38535265,  0.33294664, -1.23431858, -1.31854815,\n",
              "        -1.23086002],\n",
              "       [-1.0323708 , -1.26418478,  0.10126488, -1.23431858, -1.31854815,\n",
              "        -1.23086002],\n",
              "       [-1.00942923, -0.53717756,  0.79631017, -1.29126392, -1.0562283 ,\n",
              "        -1.23086002],\n",
              "       [-0.98648766, -0.7795133 ,  2.41808251, -1.29126392, -1.44970808,\n",
              "        -1.23086002],\n",
              "       [-0.96354608, -0.41600969,  2.64976427, -1.34820926, -1.31854815,\n",
              "        -1.23086002],\n",
              "       [-0.94060451, -1.14301691,  0.10126488, -1.29126392, -1.44970808,\n",
              "        -1.23086002],\n",
              "       [-0.91766294, -1.02184904,  0.33294664, -1.46209994, -1.31854815,\n",
              "        -1.23086002],\n",
              "       [-0.89472136, -0.41600969,  1.02799193, -1.4051546 , -1.31854815,\n",
              "        -1.23086002],\n",
              "       [-0.87177979, -1.14301691,  0.10126488, -1.29126392, -1.44970808,\n",
              "        -1.23086002],\n",
              "       [-0.84883822, -1.74885626, -0.13041689, -1.4051546 , -1.31854815,\n",
              "        -1.23086002],\n",
              "       [-0.82589664, -0.90068117,  0.79631017, -1.29126392, -1.31854815,\n",
              "        -1.23086002],\n",
              "       [-0.80295507, -1.02184904,  1.02799193, -1.4051546 , -1.18738822,\n",
              "        -1.23086002],\n",
              "       [-0.7800135 , -1.62768839, -1.75218923, -1.4051546 , -1.18738822,\n",
              "        -1.23086002],\n",
              "       [-0.75707192, -1.74885626,  0.33294664, -1.4051546 , -1.31854815,\n",
              "        -1.23086002],\n",
              "       [-0.73413035, -1.02184904,  1.02799193, -1.23431858, -0.79390844,\n",
              "        -1.23086002],\n",
              "       [-0.71118877, -0.90068117,  1.72303722, -1.06348255, -1.0562283 ,\n",
              "        -1.23086002],\n",
              "       [-0.6882472 , -1.26418478, -0.13041689, -1.34820926, -1.18738822,\n",
              "        -1.23086002],\n",
              "       [-0.66530563, -0.90068117,  1.72303722, -1.23431858, -1.31854815,\n",
              "        -1.23086002],\n",
              "       [-0.64236405, -1.50652052,  0.33294664, -1.34820926, -1.31854815,\n",
              "        -1.23086002],\n",
              "       [-0.61942248, -0.65834543,  1.49135546, -1.29126392, -1.31854815,\n",
              "        -1.23086002],\n",
              "       [-0.59648091, -1.02184904,  0.5646284 , -1.34820926, -1.31854815,\n",
              "        -1.23086002],\n",
              "       [-0.57353933,  1.40150837,  0.33294664,  0.53098703,  0.25537099,\n",
              "        -0.00809776],\n",
              "       [-0.55059776,  0.67450115,  0.33294664,  0.41709635,  0.38653091,\n",
              "        -0.00809776],\n",
              "       [-0.52765619,  1.2803405 ,  0.10126488,  0.64487772,  0.38653091,\n",
              "        -0.00809776],\n",
              "       [-0.50471461, -0.41600969, -1.75218923,  0.13236964,  0.12421106,\n",
              "        -0.00809776],\n",
              "       [-0.48177304,  0.79566902, -0.59378041,  0.47404169,  0.38653091,\n",
              "        -0.00809776],\n",
              "       [-0.45883147, -0.17367395, -0.59378041,  0.41709635,  0.12421106,\n",
              "        -0.00809776],\n",
              "       [-0.43588989,  0.55333328,  0.5646284 ,  0.53098703,  0.51769084,\n",
              "        -0.00809776],\n",
              "       [-0.41294832, -1.14301691, -1.52050747, -0.26624776, -0.26926873,\n",
              "        -0.00809776],\n",
              "       [-0.39000675,  0.91683689, -0.36209865,  0.47404169,  0.12421106,\n",
              "        -0.00809776],\n",
              "       [-0.36706517, -0.7795133 , -0.82546218,  0.07542429,  0.25537099,\n",
              "        -0.00809776],\n",
              "       [-0.3441236 , -1.02184904, -2.44723452, -0.15235707, -0.26926873,\n",
              "        -0.00809776],\n",
              "       [-0.32118203,  0.06866179, -0.13041689,  0.24626032,  0.38653091,\n",
              "        -0.00809776],\n",
              "       [-0.29824045,  0.18982966, -1.98387099,  0.13236964, -0.26926873,\n",
              "        -0.00809776],\n",
              "       [-0.27529888,  0.31099753, -0.36209865,  0.53098703,  0.25537099,\n",
              "        -0.00809776],\n",
              "       [-0.25235731, -0.29484182, -0.36209865, -0.09541173,  0.12421106,\n",
              "        -0.00809776],\n",
              "       [-0.22941573,  1.03800476,  0.10126488,  0.36015101,  0.25537099,\n",
              "        -0.00809776],\n",
              "       [-0.20647416, -0.29484182, -0.13041689,  0.41709635,  0.38653091,\n",
              "        -0.00809776],\n",
              "       [-0.18353259, -0.05250608, -0.82546218,  0.18931498, -0.26926873,\n",
              "        -0.00809776],\n",
              "       [-0.16059101,  0.4321654 , -1.98387099,  0.41709635,  0.38653091,\n",
              "        -0.00809776],\n",
              "       [-0.13764944, -0.29484182, -1.2888257 ,  0.07542429, -0.1381088 ,\n",
              "        -0.00809776],\n",
              "       [-0.11470787,  0.06866179,  0.33294664,  0.58793237,  0.7800107 ,\n",
              "        -0.00809776],\n",
              "       [-0.09176629,  0.31099753, -0.59378041,  0.13236964,  0.12421106,\n",
              "        -0.00809776],\n",
              "       [-0.06882472,  0.55333328, -1.2888257 ,  0.64487772,  0.38653091,\n",
              "        -0.00809776],\n",
              "       [-0.04588315,  0.31099753, -0.59378041,  0.53098703, -0.00694887,\n",
              "        -0.00809776],\n",
              "       [-0.02294157,  0.67450115, -0.36209865,  0.30320566,  0.12421106,\n",
              "        -0.00809776],\n",
              "       [ 0.        ,  0.91683689, -0.13041689,  0.36015101,  0.25537099,\n",
              "        -0.00809776],\n",
              "       [ 0.02294157,  1.15917263, -0.59378041,  0.58793237,  0.25537099,\n",
              "        -0.00809776],\n",
              "       [ 0.04588315,  1.03800476, -0.13041689,  0.70182306,  0.64885077,\n",
              "        -0.00809776],\n",
              "       [ 0.06882472,  0.18982966, -0.36209865,  0.41709635,  0.38653091,\n",
              "        -0.00809776],\n",
              "       [ 0.09176629, -0.17367395, -1.05714394, -0.15235707, -0.26926873,\n",
              "        -0.00809776],\n",
              "       [ 0.11470787, -0.41600969, -1.52050747,  0.01847895, -0.1381088 ,\n",
              "        -0.00809776],\n",
              "       [ 0.13764944, -0.41600969, -1.52050747, -0.03846639, -0.26926873,\n",
              "        -0.00809776],\n",
              "       [ 0.16059101, -0.05250608, -0.82546218,  0.07542429, -0.00694887,\n",
              "        -0.00809776],\n",
              "       [ 0.18353259,  0.18982966, -0.82546218,  0.7587684 ,  0.51769084,\n",
              "        -0.00809776],\n",
              "       [ 0.20647416, -0.53717756, -0.13041689,  0.41709635,  0.38653091,\n",
              "        -0.00809776],\n",
              "       [ 0.22941573,  0.18982966,  0.79631017,  0.41709635,  0.51769084,\n",
              "        -0.00809776],\n",
              "       [ 0.25235731,  1.03800476,  0.10126488,  0.53098703,  0.38653091,\n",
              "        -0.00809776],\n",
              "       [ 0.27529888,  0.55333328, -1.75218923,  0.36015101,  0.12421106,\n",
              "        -0.00809776],\n",
              "       [ 0.29824045, -0.29484182, -0.13041689,  0.18931498,  0.12421106,\n",
              "        -0.00809776],\n",
              "       [ 0.32118203, -0.41600969, -1.2888257 ,  0.13236964,  0.12421106,\n",
              "        -0.00809776],\n",
              "       [ 0.3441236 , -0.41600969, -1.05714394,  0.36015101, -0.00694887,\n",
              "        -0.00809776],\n",
              "       [ 0.36706517,  0.31099753, -0.13041689,  0.47404169,  0.25537099,\n",
              "        -0.00809776],\n",
              "       [ 0.39000675, -0.05250608, -1.05714394,  0.13236964, -0.00694887,\n",
              "        -0.00809776],\n",
              "       [ 0.41294832, -1.02184904, -1.75218923, -0.26624776, -0.26926873,\n",
              "        -0.00809776],\n",
              "       [ 0.43588989, -0.29484182, -0.82546218,  0.24626032,  0.12421106,\n",
              "        -0.00809776],\n",
              "       [ 0.45883147, -0.17367395, -0.13041689,  0.24626032, -0.00694887,\n",
              "        -0.00809776],\n",
              "       [ 0.48177304, -0.17367395, -0.36209865,  0.24626032,  0.12421106,\n",
              "        -0.00809776],\n",
              "       [ 0.50471461,  0.4321654 , -0.36209865,  0.30320566,  0.12421106,\n",
              "        -0.00809776],\n",
              "       [ 0.52765619, -0.90068117, -1.2888257 , -0.43708379, -0.1381088 ,\n",
              "        -0.00809776],\n",
              "       [ 0.55059776, -0.17367395, -0.59378041,  0.18931498,  0.12421106,\n",
              "        -0.00809776],\n",
              "       [ 0.57353933,  0.55333328,  0.5646284 ,  1.27127648,  1.6981302 ,\n",
              "         1.2146645 ],\n",
              "       [ 0.59648091, -0.05250608, -0.82546218,  0.7587684 ,  0.91117063,\n",
              "         1.2146645 ],\n",
              "       [ 0.61942248,  1.52267624, -0.13041689,  1.21433114,  1.17349048,\n",
              "         1.2146645 ],\n",
              "       [ 0.64236405,  0.55333328, -0.36209865,  1.04349511,  0.7800107 ,\n",
              "         1.2146645 ],\n",
              "       [ 0.66530563,  0.79566902, -0.13041689,  1.1573858 ,  1.30465041,\n",
              "         1.2146645 ],\n",
              "       [ 0.6882472 ,  2.12851559, -0.13041689,  1.61294853,  1.17349048,\n",
              "         1.2146645 ],\n",
              "       [ 0.71118877, -1.14301691, -1.2888257 ,  0.41709635,  0.64885077,\n",
              "         1.2146645 ],\n",
              "       [ 0.73413035,  1.76501198, -0.36209865,  1.44211251,  0.7800107 ,\n",
              "         1.2146645 ],\n",
              "       [ 0.75707192,  1.03800476, -1.2888257 ,  1.1573858 ,  0.7800107 ,\n",
              "         1.2146645 ],\n",
              "       [ 0.7800135 ,  1.64384411,  1.25967369,  1.32822182,  1.6981302 ,\n",
              "         1.2146645 ],\n",
              "       [ 0.80295507,  0.79566902,  0.33294664,  0.7587684 ,  1.04233056,\n",
              "         1.2146645 ],\n",
              "       [ 0.82589664,  0.67450115, -0.82546218,  0.87265908,  0.91117063,\n",
              "         1.2146645 ],\n",
              "       [ 0.84883822,  1.15917263, -0.13041689,  0.98654977,  1.17349048,\n",
              "         1.2146645 ],\n",
              "       [ 0.87177979, -0.17367395, -1.2888257 ,  0.70182306,  1.04233056,\n",
              "         1.2146645 ],\n",
              "       [ 0.89472136, -0.05250608, -0.59378041,  0.7587684 ,  1.56697027,\n",
              "         1.2146645 ],\n",
              "       [ 0.91766294,  0.67450115,  0.33294664,  0.87265908,  1.43581034,\n",
              "         1.2146645 ],\n",
              "       [ 0.94060451,  0.79566902, -0.13041689,  0.98654977,  0.7800107 ,\n",
              "         1.2146645 ],\n",
              "       [ 0.96354608,  2.24968346,  1.72303722,  1.66989387,  1.30465041,\n",
              "         1.2146645 ],\n",
              "       [ 0.98648766,  2.24968346, -1.05714394,  1.78378456,  1.43581034,\n",
              "         1.2146645 ],\n",
              "       [ 1.00942923,  0.18982966, -1.98387099,  0.70182306,  0.38653091,\n",
              "         1.2146645 ],\n",
              "       [ 1.0323708 ,  1.2803405 ,  0.33294664,  1.10044045,  1.43581034,\n",
              "         1.2146645 ],\n",
              "       [ 1.05531238, -0.29484182, -0.59378041,  0.64487772,  1.04233056,\n",
              "         1.2146645 ],\n",
              "       [ 1.07825395,  2.24968346, -0.59378041,  1.66989387,  1.04233056,\n",
              "         1.2146645 ],\n",
              "       [ 1.10119552,  0.55333328, -0.82546218,  0.64487772,  0.7800107 ,\n",
              "         1.2146645 ],\n",
              "       [ 1.1241371 ,  1.03800476,  0.5646284 ,  1.10044045,  1.17349048,\n",
              "         1.2146645 ],\n",
              "       [ 1.14707867,  1.64384411,  0.33294664,  1.27127648,  0.7800107 ,\n",
              "         1.2146645 ],\n",
              "       [ 1.17002024,  0.4321654 , -0.59378041,  0.58793237,  0.7800107 ,\n",
              "         1.2146645 ],\n",
              "       [ 1.19296182,  0.31099753, -0.13041689,  0.64487772,  0.7800107 ,\n",
              "         1.2146645 ],\n",
              "       [ 1.21590339,  0.67450115, -0.59378041,  1.04349511,  1.17349048,\n",
              "         1.2146645 ],\n",
              "       [ 1.23884496,  1.64384411, -0.13041689,  1.1573858 ,  0.51769084,\n",
              "         1.2146645 ],\n",
              "       [ 1.26178654,  1.88617985, -0.59378041,  1.32822182,  0.91117063,\n",
              "         1.2146645 ],\n",
              "       [ 1.28472811,  2.4920192 ,  1.72303722,  1.49905785,  1.04233056,\n",
              "         1.2146645 ],\n",
              "       [ 1.30766968,  0.67450115, -0.59378041,  1.04349511,  1.30465041,\n",
              "         1.2146645 ],\n",
              "       [ 1.33061126,  0.55333328, -0.59378041,  0.7587684 ,  0.38653091,\n",
              "         1.2146645 ],\n",
              "       [ 1.35355283,  0.31099753, -1.05714394,  1.04349511,  0.25537099,\n",
              "         1.2146645 ],\n",
              "       [ 1.3764944 ,  2.24968346, -0.13041689,  1.32822182,  1.43581034,\n",
              "         1.2146645 ],\n",
              "       [ 1.39943598,  0.55333328,  0.79631017,  1.04349511,  1.56697027,\n",
              "         1.2146645 ],\n",
              "       [ 1.42237755,  0.67450115,  0.10126488,  0.98654977,  0.7800107 ,\n",
              "         1.2146645 ],\n",
              "       [ 1.44531912,  0.18982966, -0.13041689,  0.58793237,  0.7800107 ,\n",
              "         1.2146645 ],\n",
              "       [ 1.4682607 ,  1.2803405 ,  0.10126488,  0.92960443,  1.17349048,\n",
              "         1.2146645 ],\n",
              "       [ 1.49120227,  1.03800476,  0.10126488,  1.04349511,  1.56697027,\n",
              "         1.2146645 ],\n",
              "       [ 1.51414384,  1.2803405 ,  0.10126488,  0.7587684 ,  1.43581034,\n",
              "         1.2146645 ],\n",
              "       [ 1.53708542, -0.05250608, -0.82546218,  0.7587684 ,  0.91117063,\n",
              "         1.2146645 ],\n",
              "       [ 1.56002699,  1.15917263,  0.33294664,  1.21433114,  1.43581034,\n",
              "         1.2146645 ],\n",
              "       [ 1.58296856,  1.03800476,  0.5646284 ,  1.10044045,  1.6981302 ,\n",
              "         1.2146645 ],\n",
              "       [ 1.60591014,  1.03800476, -0.13041689,  0.81571374,  1.43581034,\n",
              "         1.2146645 ],\n",
              "       [ 1.62885171,  0.55333328, -1.2888257 ,  0.70182306,  0.91117063,\n",
              "         1.2146645 ],\n",
              "       [ 1.65179328,  0.79566902, -0.13041689,  0.81571374,  1.04233056,\n",
              "         1.2146645 ],\n",
              "       [ 1.67473486,  0.4321654 ,  0.79631017,  0.92960443,  1.43581034,\n",
              "         1.2146645 ],\n",
              "       [ 1.69767643,  0.06866179, -0.13041689,  0.7587684 ,  0.7800107 ,\n",
              "         1.2146645 ],\n",
              "       [ 1.720618  ,         nan,  0.79631017,  0.7587684 ,  1.30465041,\n",
              "         1.2146645 ]])"
            ]
          },
          "metadata": {},
          "execution_count": 28
        }
      ]
    },
    {
      "cell_type": "markdown",
      "metadata": {
        "id": "_CTVoGnU2oNz"
      },
      "source": [
        "# **Discretization**"
      ]
    },
    {
      "cell_type": "code",
      "metadata": {
        "colab": {
          "base_uri": "https://localhost:8080/",
          "height": 202
        },
        "id": "645kVHDG2kNu",
        "outputId": "58045df1-79da-467c-9817-74161d9b2dbc"
      },
      "source": [
        "from sklearn.preprocessing import KBinsDiscretizer\n",
        "temp_data.head()"
      ],
      "execution_count": 19,
      "outputs": [
        {
          "output_type": "execute_result",
          "data": {
            "text/html": [
              "<div>\n",
              "<style scoped>\n",
              "    .dataframe tbody tr th:only-of-type {\n",
              "        vertical-align: middle;\n",
              "    }\n",
              "\n",
              "    .dataframe tbody tr th {\n",
              "        vertical-align: top;\n",
              "    }\n",
              "\n",
              "    .dataframe thead th {\n",
              "        text-align: right;\n",
              "    }\n",
              "</style>\n",
              "<table border=\"1\" class=\"dataframe\">\n",
              "  <thead>\n",
              "    <tr style=\"text-align: right;\">\n",
              "      <th></th>\n",
              "      <th>Id</th>\n",
              "      <th>SepalWidthCm</th>\n",
              "      <th>PetalLengthCm</th>\n",
              "      <th>PetalWidthCm</th>\n",
              "      <th>Species</th>\n",
              "    </tr>\n",
              "  </thead>\n",
              "  <tbody>\n",
              "    <tr>\n",
              "      <th>0</th>\n",
              "      <td>1</td>\n",
              "      <td>3.5</td>\n",
              "      <td>1.4</td>\n",
              "      <td>0.2</td>\n",
              "      <td>0</td>\n",
              "    </tr>\n",
              "    <tr>\n",
              "      <th>1</th>\n",
              "      <td>2</td>\n",
              "      <td>3.0</td>\n",
              "      <td>1.4</td>\n",
              "      <td>0.2</td>\n",
              "      <td>0</td>\n",
              "    </tr>\n",
              "    <tr>\n",
              "      <th>2</th>\n",
              "      <td>3</td>\n",
              "      <td>3.2</td>\n",
              "      <td>1.3</td>\n",
              "      <td>0.2</td>\n",
              "      <td>0</td>\n",
              "    </tr>\n",
              "    <tr>\n",
              "      <th>3</th>\n",
              "      <td>4</td>\n",
              "      <td>3.1</td>\n",
              "      <td>1.5</td>\n",
              "      <td>0.2</td>\n",
              "      <td>0</td>\n",
              "    </tr>\n",
              "    <tr>\n",
              "      <th>4</th>\n",
              "      <td>5</td>\n",
              "      <td>3.6</td>\n",
              "      <td>1.4</td>\n",
              "      <td>0.2</td>\n",
              "      <td>0</td>\n",
              "    </tr>\n",
              "  </tbody>\n",
              "</table>\n",
              "</div>"
            ],
            "text/plain": [
              "   Id  SepalWidthCm  PetalLengthCm  PetalWidthCm  Species\n",
              "0   1           3.5            1.4           0.2        0\n",
              "1   2           3.0            1.4           0.2        0\n",
              "2   3           3.2            1.3           0.2        0\n",
              "3   4           3.1            1.5           0.2        0\n",
              "4   5           3.6            1.4           0.2        0"
            ]
          },
          "metadata": {},
          "execution_count": 19
        }
      ]
    },
    {
      "cell_type": "markdown",
      "metadata": {
        "id": "mtCun5Dy2zVH"
      },
      "source": [
        "**Quantile Discretization Transform**"
      ]
    },
    {
      "cell_type": "code",
      "metadata": {
        "colab": {
          "base_uri": "https://localhost:8080/",
          "height": 414
        },
        "id": "JJgmOuWv2vPQ",
        "outputId": "bd83d024-ff90-4aa1-f6e2-95c61037f730"
      },
      "source": [
        "trans = KBinsDiscretizer(n_bins =10 , encode = 'ordinal' , strategy='quantile')\n",
        "new_data = trans.fit_transform(temp_data)\n",
        "pd.DataFrame(new_data,columns = temp_data.columns )"
      ],
      "execution_count": 20,
      "outputs": [
        {
          "output_type": "execute_result",
          "data": {
            "text/html": [
              "<div>\n",
              "<style scoped>\n",
              "    .dataframe tbody tr th:only-of-type {\n",
              "        vertical-align: middle;\n",
              "    }\n",
              "\n",
              "    .dataframe tbody tr th {\n",
              "        vertical-align: top;\n",
              "    }\n",
              "\n",
              "    .dataframe thead th {\n",
              "        text-align: right;\n",
              "    }\n",
              "</style>\n",
              "<table border=\"1\" class=\"dataframe\">\n",
              "  <thead>\n",
              "    <tr style=\"text-align: right;\">\n",
              "      <th></th>\n",
              "      <th>Id</th>\n",
              "      <th>SepalWidthCm</th>\n",
              "      <th>PetalLengthCm</th>\n",
              "      <th>PetalWidthCm</th>\n",
              "      <th>Species</th>\n",
              "    </tr>\n",
              "  </thead>\n",
              "  <tbody>\n",
              "    <tr>\n",
              "      <th>0</th>\n",
              "      <td>0.0</td>\n",
              "      <td>7.0</td>\n",
              "      <td>1.0</td>\n",
              "      <td>1.0</td>\n",
              "      <td>0.0</td>\n",
              "    </tr>\n",
              "    <tr>\n",
              "      <th>1</th>\n",
              "      <td>0.0</td>\n",
              "      <td>4.0</td>\n",
              "      <td>1.0</td>\n",
              "      <td>1.0</td>\n",
              "      <td>0.0</td>\n",
              "    </tr>\n",
              "    <tr>\n",
              "      <th>2</th>\n",
              "      <td>0.0</td>\n",
              "      <td>6.0</td>\n",
              "      <td>0.0</td>\n",
              "      <td>1.0</td>\n",
              "      <td>0.0</td>\n",
              "    </tr>\n",
              "    <tr>\n",
              "      <th>3</th>\n",
              "      <td>0.0</td>\n",
              "      <td>5.0</td>\n",
              "      <td>2.0</td>\n",
              "      <td>1.0</td>\n",
              "      <td>0.0</td>\n",
              "    </tr>\n",
              "    <tr>\n",
              "      <th>4</th>\n",
              "      <td>0.0</td>\n",
              "      <td>8.0</td>\n",
              "      <td>1.0</td>\n",
              "      <td>1.0</td>\n",
              "      <td>0.0</td>\n",
              "    </tr>\n",
              "    <tr>\n",
              "      <th>...</th>\n",
              "      <td>...</td>\n",
              "      <td>...</td>\n",
              "      <td>...</td>\n",
              "      <td>...</td>\n",
              "      <td>...</td>\n",
              "    </tr>\n",
              "    <tr>\n",
              "      <th>146</th>\n",
              "      <td>9.0</td>\n",
              "      <td>1.0</td>\n",
              "      <td>7.0</td>\n",
              "      <td>7.0</td>\n",
              "      <td>1.0</td>\n",
              "    </tr>\n",
              "    <tr>\n",
              "      <th>147</th>\n",
              "      <td>9.0</td>\n",
              "      <td>4.0</td>\n",
              "      <td>7.0</td>\n",
              "      <td>7.0</td>\n",
              "      <td>1.0</td>\n",
              "    </tr>\n",
              "    <tr>\n",
              "      <th>148</th>\n",
              "      <td>9.0</td>\n",
              "      <td>7.0</td>\n",
              "      <td>8.0</td>\n",
              "      <td>8.0</td>\n",
              "      <td>1.0</td>\n",
              "    </tr>\n",
              "    <tr>\n",
              "      <th>149</th>\n",
              "      <td>9.0</td>\n",
              "      <td>4.0</td>\n",
              "      <td>7.0</td>\n",
              "      <td>6.0</td>\n",
              "      <td>1.0</td>\n",
              "    </tr>\n",
              "    <tr>\n",
              "      <th>150</th>\n",
              "      <td>9.0</td>\n",
              "      <td>7.0</td>\n",
              "      <td>7.0</td>\n",
              "      <td>8.0</td>\n",
              "      <td>1.0</td>\n",
              "    </tr>\n",
              "  </tbody>\n",
              "</table>\n",
              "<p>151 rows × 5 columns</p>\n",
              "</div>"
            ],
            "text/plain": [
              "      Id  SepalWidthCm  PetalLengthCm  PetalWidthCm  Species\n",
              "0    0.0           7.0            1.0           1.0      0.0\n",
              "1    0.0           4.0            1.0           1.0      0.0\n",
              "2    0.0           6.0            0.0           1.0      0.0\n",
              "3    0.0           5.0            2.0           1.0      0.0\n",
              "4    0.0           8.0            1.0           1.0      0.0\n",
              "..   ...           ...            ...           ...      ...\n",
              "146  9.0           1.0            7.0           7.0      1.0\n",
              "147  9.0           4.0            7.0           7.0      1.0\n",
              "148  9.0           7.0            8.0           8.0      1.0\n",
              "149  9.0           4.0            7.0           6.0      1.0\n",
              "150  9.0           7.0            7.0           8.0      1.0\n",
              "\n",
              "[151 rows x 5 columns]"
            ]
          },
          "metadata": {},
          "execution_count": 20
        }
      ]
    },
    {
      "cell_type": "markdown",
      "metadata": {
        "id": "BGBw9FNe29tl"
      },
      "source": [
        " **Uniform Discretization Transform**"
      ]
    },
    {
      "cell_type": "code",
      "metadata": {
        "colab": {
          "base_uri": "https://localhost:8080/",
          "height": 414
        },
        "id": "vejElYNi2-y2",
        "outputId": "10c076b5-6a74-425a-b1ce-cbbe3f860998"
      },
      "source": [
        "trans = KBinsDiscretizer(n_bins =10 , encode = 'ordinal' , strategy='uniform')\n",
        "new_data = trans.fit_transform(temp_data)\n",
        "pd.DataFrame(new_data,columns = temp_data.columns )"
      ],
      "execution_count": 21,
      "outputs": [
        {
          "output_type": "execute_result",
          "data": {
            "text/html": [
              "<div>\n",
              "<style scoped>\n",
              "    .dataframe tbody tr th:only-of-type {\n",
              "        vertical-align: middle;\n",
              "    }\n",
              "\n",
              "    .dataframe tbody tr th {\n",
              "        vertical-align: top;\n",
              "    }\n",
              "\n",
              "    .dataframe thead th {\n",
              "        text-align: right;\n",
              "    }\n",
              "</style>\n",
              "<table border=\"1\" class=\"dataframe\">\n",
              "  <thead>\n",
              "    <tr style=\"text-align: right;\">\n",
              "      <th></th>\n",
              "      <th>Id</th>\n",
              "      <th>SepalWidthCm</th>\n",
              "      <th>PetalLengthCm</th>\n",
              "      <th>PetalWidthCm</th>\n",
              "      <th>Species</th>\n",
              "    </tr>\n",
              "  </thead>\n",
              "  <tbody>\n",
              "    <tr>\n",
              "      <th>0</th>\n",
              "      <td>0.0</td>\n",
              "      <td>6.0</td>\n",
              "      <td>0.0</td>\n",
              "      <td>0.0</td>\n",
              "      <td>0.0</td>\n",
              "    </tr>\n",
              "    <tr>\n",
              "      <th>1</th>\n",
              "      <td>0.0</td>\n",
              "      <td>4.0</td>\n",
              "      <td>0.0</td>\n",
              "      <td>0.0</td>\n",
              "      <td>0.0</td>\n",
              "    </tr>\n",
              "    <tr>\n",
              "      <th>2</th>\n",
              "      <td>0.0</td>\n",
              "      <td>5.0</td>\n",
              "      <td>0.0</td>\n",
              "      <td>0.0</td>\n",
              "      <td>0.0</td>\n",
              "    </tr>\n",
              "    <tr>\n",
              "      <th>3</th>\n",
              "      <td>0.0</td>\n",
              "      <td>4.0</td>\n",
              "      <td>0.0</td>\n",
              "      <td>0.0</td>\n",
              "      <td>0.0</td>\n",
              "    </tr>\n",
              "    <tr>\n",
              "      <th>4</th>\n",
              "      <td>0.0</td>\n",
              "      <td>6.0</td>\n",
              "      <td>0.0</td>\n",
              "      <td>0.0</td>\n",
              "      <td>0.0</td>\n",
              "    </tr>\n",
              "    <tr>\n",
              "      <th>...</th>\n",
              "      <td>...</td>\n",
              "      <td>...</td>\n",
              "      <td>...</td>\n",
              "      <td>...</td>\n",
              "      <td>...</td>\n",
              "    </tr>\n",
              "    <tr>\n",
              "      <th>146</th>\n",
              "      <td>9.0</td>\n",
              "      <td>2.0</td>\n",
              "      <td>6.0</td>\n",
              "      <td>7.0</td>\n",
              "      <td>9.0</td>\n",
              "    </tr>\n",
              "    <tr>\n",
              "      <th>147</th>\n",
              "      <td>9.0</td>\n",
              "      <td>4.0</td>\n",
              "      <td>7.0</td>\n",
              "      <td>7.0</td>\n",
              "      <td>9.0</td>\n",
              "    </tr>\n",
              "    <tr>\n",
              "      <th>148</th>\n",
              "      <td>9.0</td>\n",
              "      <td>5.0</td>\n",
              "      <td>7.0</td>\n",
              "      <td>9.0</td>\n",
              "      <td>9.0</td>\n",
              "    </tr>\n",
              "    <tr>\n",
              "      <th>149</th>\n",
              "      <td>9.0</td>\n",
              "      <td>4.0</td>\n",
              "      <td>6.0</td>\n",
              "      <td>7.0</td>\n",
              "      <td>9.0</td>\n",
              "    </tr>\n",
              "    <tr>\n",
              "      <th>150</th>\n",
              "      <td>9.0</td>\n",
              "      <td>5.0</td>\n",
              "      <td>6.0</td>\n",
              "      <td>8.0</td>\n",
              "      <td>9.0</td>\n",
              "    </tr>\n",
              "  </tbody>\n",
              "</table>\n",
              "<p>151 rows × 5 columns</p>\n",
              "</div>"
            ],
            "text/plain": [
              "      Id  SepalWidthCm  PetalLengthCm  PetalWidthCm  Species\n",
              "0    0.0           6.0            0.0           0.0      0.0\n",
              "1    0.0           4.0            0.0           0.0      0.0\n",
              "2    0.0           5.0            0.0           0.0      0.0\n",
              "3    0.0           4.0            0.0           0.0      0.0\n",
              "4    0.0           6.0            0.0           0.0      0.0\n",
              "..   ...           ...            ...           ...      ...\n",
              "146  9.0           2.0            6.0           7.0      9.0\n",
              "147  9.0           4.0            7.0           7.0      9.0\n",
              "148  9.0           5.0            7.0           9.0      9.0\n",
              "149  9.0           4.0            6.0           7.0      9.0\n",
              "150  9.0           5.0            6.0           8.0      9.0\n",
              "\n",
              "[151 rows x 5 columns]"
            ]
          },
          "metadata": {},
          "execution_count": 21
        }
      ]
    },
    {
      "cell_type": "markdown",
      "metadata": {
        "id": "Cs_OzI_b3OhB"
      },
      "source": [
        "**KMeans Clustered Discretization Transform**"
      ]
    },
    {
      "cell_type": "code",
      "metadata": {
        "colab": {
          "base_uri": "https://localhost:8080/",
          "height": 414
        },
        "id": "-jDfjATi3PU-",
        "outputId": "e004c296-6f85-4ed0-917f-a7b1b773ec57"
      },
      "source": [
        "trans = KBinsDiscretizer(n_bins =10 , encode = 'ordinal' , strategy='kmeans')\n",
        "new_data = trans.fit_transform(temp_data)\n",
        "pd.DataFrame(new_data,columns = temp_data.columns )"
      ],
      "execution_count": 22,
      "outputs": [
        {
          "output_type": "execute_result",
          "data": {
            "text/html": [
              "<div>\n",
              "<style scoped>\n",
              "    .dataframe tbody tr th:only-of-type {\n",
              "        vertical-align: middle;\n",
              "    }\n",
              "\n",
              "    .dataframe tbody tr th {\n",
              "        vertical-align: top;\n",
              "    }\n",
              "\n",
              "    .dataframe thead th {\n",
              "        text-align: right;\n",
              "    }\n",
              "</style>\n",
              "<table border=\"1\" class=\"dataframe\">\n",
              "  <thead>\n",
              "    <tr style=\"text-align: right;\">\n",
              "      <th></th>\n",
              "      <th>Id</th>\n",
              "      <th>SepalWidthCm</th>\n",
              "      <th>PetalLengthCm</th>\n",
              "      <th>PetalWidthCm</th>\n",
              "      <th>Species</th>\n",
              "    </tr>\n",
              "  </thead>\n",
              "  <tbody>\n",
              "    <tr>\n",
              "      <th>0</th>\n",
              "      <td>0.0</td>\n",
              "      <td>6.0</td>\n",
              "      <td>1.0</td>\n",
              "      <td>0.0</td>\n",
              "      <td>0.0</td>\n",
              "    </tr>\n",
              "    <tr>\n",
              "      <th>1</th>\n",
              "      <td>0.0</td>\n",
              "      <td>4.0</td>\n",
              "      <td>1.0</td>\n",
              "      <td>0.0</td>\n",
              "      <td>0.0</td>\n",
              "    </tr>\n",
              "    <tr>\n",
              "      <th>2</th>\n",
              "      <td>0.0</td>\n",
              "      <td>4.0</td>\n",
              "      <td>1.0</td>\n",
              "      <td>0.0</td>\n",
              "      <td>0.0</td>\n",
              "    </tr>\n",
              "    <tr>\n",
              "      <th>3</th>\n",
              "      <td>0.0</td>\n",
              "      <td>4.0</td>\n",
              "      <td>1.0</td>\n",
              "      <td>0.0</td>\n",
              "      <td>0.0</td>\n",
              "    </tr>\n",
              "    <tr>\n",
              "      <th>4</th>\n",
              "      <td>0.0</td>\n",
              "      <td>6.0</td>\n",
              "      <td>1.0</td>\n",
              "      <td>0.0</td>\n",
              "      <td>0.0</td>\n",
              "    </tr>\n",
              "    <tr>\n",
              "      <th>...</th>\n",
              "      <td>...</td>\n",
              "      <td>...</td>\n",
              "      <td>...</td>\n",
              "      <td>...</td>\n",
              "      <td>...</td>\n",
              "    </tr>\n",
              "    <tr>\n",
              "      <th>146</th>\n",
              "      <td>9.0</td>\n",
              "      <td>2.0</td>\n",
              "      <td>6.0</td>\n",
              "      <td>7.0</td>\n",
              "      <td>2.0</td>\n",
              "    </tr>\n",
              "    <tr>\n",
              "      <th>147</th>\n",
              "      <td>9.0</td>\n",
              "      <td>4.0</td>\n",
              "      <td>6.0</td>\n",
              "      <td>7.0</td>\n",
              "      <td>2.0</td>\n",
              "    </tr>\n",
              "    <tr>\n",
              "      <th>148</th>\n",
              "      <td>9.0</td>\n",
              "      <td>5.0</td>\n",
              "      <td>7.0</td>\n",
              "      <td>9.0</td>\n",
              "      <td>2.0</td>\n",
              "    </tr>\n",
              "    <tr>\n",
              "      <th>149</th>\n",
              "      <td>9.0</td>\n",
              "      <td>4.0</td>\n",
              "      <td>6.0</td>\n",
              "      <td>7.0</td>\n",
              "      <td>2.0</td>\n",
              "    </tr>\n",
              "    <tr>\n",
              "      <th>150</th>\n",
              "      <td>9.0</td>\n",
              "      <td>5.0</td>\n",
              "      <td>6.0</td>\n",
              "      <td>8.0</td>\n",
              "      <td>2.0</td>\n",
              "    </tr>\n",
              "  </tbody>\n",
              "</table>\n",
              "<p>151 rows × 5 columns</p>\n",
              "</div>"
            ],
            "text/plain": [
              "      Id  SepalWidthCm  PetalLengthCm  PetalWidthCm  Species\n",
              "0    0.0           6.0            1.0           0.0      0.0\n",
              "1    0.0           4.0            1.0           0.0      0.0\n",
              "2    0.0           4.0            1.0           0.0      0.0\n",
              "3    0.0           4.0            1.0           0.0      0.0\n",
              "4    0.0           6.0            1.0           0.0      0.0\n",
              "..   ...           ...            ...           ...      ...\n",
              "146  9.0           2.0            6.0           7.0      2.0\n",
              "147  9.0           4.0            6.0           7.0      2.0\n",
              "148  9.0           5.0            7.0           9.0      2.0\n",
              "149  9.0           4.0            6.0           7.0      2.0\n",
              "150  9.0           5.0            6.0           8.0      2.0\n",
              "\n",
              "[151 rows x 5 columns]"
            ]
          },
          "metadata": {},
          "execution_count": 22
        }
      ]
    },
    {
      "cell_type": "markdown",
      "metadata": {
        "id": "aRdyeO7r12a3"
      },
      "source": [
        "# **Handling With Missing Values**"
      ]
    },
    {
      "cell_type": "code",
      "metadata": {
        "colab": {
          "base_uri": "https://localhost:8080/",
          "height": 0
        },
        "id": "y4lke0hdNcMS",
        "outputId": "b36fb06d-e44d-40ab-e07c-35134c9f0d95"
      },
      "source": [
        "data.isnull().any()"
      ],
      "execution_count": 23,
      "outputs": [
        {
          "output_type": "execute_result",
          "data": {
            "text/plain": [
              "Id               False\n",
              "SepalLengthCm     True\n",
              "SepalWidthCm     False\n",
              "PetalLengthCm    False\n",
              "PetalWidthCm     False\n",
              "Species          False\n",
              "dtype: bool"
            ]
          },
          "metadata": {},
          "execution_count": 23
        }
      ]
    },
    {
      "cell_type": "code",
      "metadata": {
        "colab": {
          "base_uri": "https://localhost:8080/",
          "height": 0
        },
        "id": "ZwKpLUJ6NhWS",
        "outputId": "f849ca99-2684-40f3-f57a-3e09b44450d5"
      },
      "source": [
        "data['SepalLengthCm'].fillna(data['SepalLengthCm'].mean(),inplace=True)\n",
        "data.isnull().any()"
      ],
      "execution_count": 24,
      "outputs": [
        {
          "output_type": "execute_result",
          "data": {
            "text/plain": [
              "Id               False\n",
              "SepalLengthCm    False\n",
              "SepalWidthCm     False\n",
              "PetalLengthCm    False\n",
              "PetalWidthCm     False\n",
              "Species          False\n",
              "dtype: bool"
            ]
          },
          "metadata": {},
          "execution_count": 24
        }
      ]
    }
  ]
}