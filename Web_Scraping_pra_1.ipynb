{
  "nbformat": 4,
  "nbformat_minor": 0,
  "metadata": {
    "colab": {
      "name": "Web_Scraping_pr1_.ipynb",
      "provenance": []
    },
    "kernelspec": {
      "name": "python3",
      "display_name": "Python 3"
    },
    "language_info": {
      "name": "python"
    }
  },
  "cells": [
    {
      "cell_type": "code",
      "metadata": {
        "id": "u8HZwc4I5Ixy"
      },
      "source": [
        "from bs4 import BeautifulSoup as bs\n",
        "import requests\n",
        "import csv\n",
        "import pandas as pd"
      ],
      "execution_count": 1,
      "outputs": []
    },
    {
      "cell_type": "code",
      "metadata": {
        "id": "3Sd9_YYq5Lu4"
      },
      "source": [
        "url= 'https://www.flipkart.com/search?q=watch+band&otracker=search&otracker1=search&marketplace=FLIPKART&as-show=off&as=of'\n",
        "page= requests.get(url)\n",
        "soup = bs(page.content, \"html.parser\")\n"
      ],
      "execution_count": 2,
      "outputs": []
    },
    {
      "cell_type": "code",
      "metadata": {
        "id": "TdDLXU225rV6"
      },
      "source": [
        "name=[]\n",
        "pr=[]\n",
        "dis=[]\n"
      ],
      "execution_count": 3,
      "outputs": []
    },
    {
      "cell_type": "code",
      "metadata": {
        "id": "qTmEG-Ia5kUU"
      },
      "source": [
        "block = soup.find_all(\"div\", class_=\"_2kHMtA\")\n",
        "title = soup.find_all(\"div\", class_=\"_4rR01T\")\n",
        "price = soup.find_all(\"div\", class_=\"_30jeq3 _1_WHN1\")\n",
        "discount = soup.find_all(\"div\", class_=\"_3Ay6Sb\")\n",
        "for i in range(0,len(block)):\n",
        "  name.append(title[i].get_text())\n",
        "  pr.append(price[i].get_text())\n",
        "  dis.append(discount[i].get_text())\n",
        "\n",
        "\n"
      ],
      "execution_count": 4,
      "outputs": []
    },
    {
      "cell_type": "code",
      "metadata": {
        "id": "uXK93xM1Br2o"
      },
      "source": [
        "final=[]\n",
        "for i in pr:\n",
        "    i=i[1:]\n",
        "    final.append(i)"
      ],
      "execution_count": 5,
      "outputs": []
    },
    {
      "cell_type": "code",
      "metadata": {
        "colab": {
          "base_uri": "https://localhost:8080/",
          "height": 203
        },
        "id": "-TnJDxjf5nod",
        "outputId": "57b2cd00-5feb-4c57-d866-456404f86efe"
      },
      "source": [
        "df=pd.DataFrame({'Band Name':name,'Price in Rs.':final,'Discount Available':dis,})\n",
        "df.head()"
      ],
      "execution_count": 6,
      "outputs": [
        {
          "output_type": "execute_result",
          "data": {
            "text/html": [
              "<div>\n",
              "<style scoped>\n",
              "    .dataframe tbody tr th:only-of-type {\n",
              "        vertical-align: middle;\n",
              "    }\n",
              "\n",
              "    .dataframe tbody tr th {\n",
              "        vertical-align: top;\n",
              "    }\n",
              "\n",
              "    .dataframe thead th {\n",
              "        text-align: right;\n",
              "    }\n",
              "</style>\n",
              "<table border=\"1\" class=\"dataframe\">\n",
              "  <thead>\n",
              "    <tr style=\"text-align: right;\">\n",
              "      <th></th>\n",
              "      <th>Band Name</th>\n",
              "      <th>Price in Rs.</th>\n",
              "      <th>Discount Available</th>\n",
              "    </tr>\n",
              "  </thead>\n",
              "  <tbody>\n",
              "    <tr>\n",
              "      <th>0</th>\n",
              "      <td>rivan enterprise DIGITAL WATCH</td>\n",
              "      <td>141</td>\n",
              "      <td>71% off</td>\n",
              "    </tr>\n",
              "    <tr>\n",
              "      <th>1</th>\n",
              "      <td>Mi Smart Band 4</td>\n",
              "      <td>2,099</td>\n",
              "      <td>16% off</td>\n",
              "    </tr>\n",
              "    <tr>\n",
              "      <th>2</th>\n",
              "      <td>Samaaya LED Digital Good Looking Unisex Watch</td>\n",
              "      <td>130</td>\n",
              "      <td>73% off</td>\n",
              "    </tr>\n",
              "    <tr>\n",
              "      <th>3</th>\n",
              "      <td>Welrock Fitness Notifier wrist smart band</td>\n",
              "      <td>620</td>\n",
              "      <td>68% off</td>\n",
              "    </tr>\n",
              "    <tr>\n",
              "      <th>4</th>\n",
              "      <td>Moana M2 Black LED Band Unisex Watch For Kids</td>\n",
              "      <td>138</td>\n",
              "      <td>72% off</td>\n",
              "    </tr>\n",
              "  </tbody>\n",
              "</table>\n",
              "</div>"
            ],
            "text/plain": [
              "                                       Band Name  ... Discount Available\n",
              "0                 rivan enterprise DIGITAL WATCH  ...            71% off\n",
              "1                                Mi Smart Band 4  ...            16% off\n",
              "2  Samaaya LED Digital Good Looking Unisex Watch  ...            73% off\n",
              "3      Welrock Fitness Notifier wrist smart band  ...            68% off\n",
              "4  Moana M2 Black LED Band Unisex Watch For Kids  ...            72% off\n",
              "\n",
              "[5 rows x 3 columns]"
            ]
          },
          "metadata": {
            "tags": []
          },
          "execution_count": 6
        }
      ]
    },
    {
      "cell_type": "code",
      "metadata": {
        "id": "yZNRsBEJ9m0Y"
      },
      "source": [
        "df.to_csv('Watch_band.csv', index=False, encoding='utf-8')"
      ],
      "execution_count": 7,
      "outputs": []
    }
  ]
}